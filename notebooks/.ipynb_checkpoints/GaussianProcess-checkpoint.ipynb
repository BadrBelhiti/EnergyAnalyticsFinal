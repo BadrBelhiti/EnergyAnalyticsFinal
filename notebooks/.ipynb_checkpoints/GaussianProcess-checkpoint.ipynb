{
 "cells": [
  {
   "cell_type": "code",
   "execution_count": 1,
   "metadata": {},
   "outputs": [],
   "source": [
    "import numpy as np\n",
    "import pandas as pd\n",
    "from sklearn.model_selection import train_test_split"
   ]
  },
  {
   "cell_type": "markdown",
   "metadata": {},
   "source": [
    "Read in data"
   ]
  },
  {
   "cell_type": "code",
   "execution_count": 2,
   "metadata": {
    "scrolled": true
   },
   "outputs": [
    {
     "data": {
      "text/html": [
       "<div>\n",
       "<style scoped>\n",
       "    .dataframe tbody tr th:only-of-type {\n",
       "        vertical-align: middle;\n",
       "    }\n",
       "\n",
       "    .dataframe tbody tr th {\n",
       "        vertical-align: top;\n",
       "    }\n",
       "\n",
       "    .dataframe thead th {\n",
       "        text-align: right;\n",
       "    }\n",
       "</style>\n",
       "<table border=\"1\" class=\"dataframe\">\n",
       "  <thead>\n",
       "    <tr style=\"text-align: right;\">\n",
       "      <th></th>\n",
       "      <th>easting</th>\n",
       "      <th>northing</th>\n",
       "      <th>porosity</th>\n",
       "      <th>permeability</th>\n",
       "      <th>Poisson's ratio</th>\n",
       "      <th>Young's Modulus</th>\n",
       "      <th>water saturation</th>\n",
       "      <th>oil saturation</th>\n",
       "      <th>proppant weight (lbs)</th>\n",
       "      <th>pump rate (cubic feet/min)</th>\n",
       "      <th>...</th>\n",
       "      <th>water 3</th>\n",
       "      <th>water 4</th>\n",
       "      <th>water 5</th>\n",
       "      <th>water 6</th>\n",
       "      <th>water 7</th>\n",
       "      <th>water 8</th>\n",
       "      <th>water 9</th>\n",
       "      <th>water 10</th>\n",
       "      <th>water 11</th>\n",
       "      <th>water 12</th>\n",
       "    </tr>\n",
       "  </thead>\n",
       "  <tbody>\n",
       "    <tr>\n",
       "      <th>0</th>\n",
       "      <td>6300.0</td>\n",
       "      <td>53700.0</td>\n",
       "      <td>0.05</td>\n",
       "      <td>0.009</td>\n",
       "      <td>0.305</td>\n",
       "      <td>1.058935e+07</td>\n",
       "      <td>0.118212</td>\n",
       "      <td>0.881788</td>\n",
       "      <td>870417.418369</td>\n",
       "      <td>393.486280</td>\n",
       "      <td>...</td>\n",
       "      <td>NaN</td>\n",
       "      <td>NaN</td>\n",
       "      <td>NaN</td>\n",
       "      <td>NaN</td>\n",
       "      <td>NaN</td>\n",
       "      <td>NaN</td>\n",
       "      <td>NaN</td>\n",
       "      <td>NaN</td>\n",
       "      <td>NaN</td>\n",
       "      <td>NaN</td>\n",
       "    </tr>\n",
       "    <tr>\n",
       "      <th>1</th>\n",
       "      <td>6401.0</td>\n",
       "      <td>53700.0</td>\n",
       "      <td>0.03</td>\n",
       "      <td>0.004</td>\n",
       "      <td>0.305</td>\n",
       "      <td>1.059206e+07</td>\n",
       "      <td>0.117850</td>\n",
       "      <td>0.882150</td>\n",
       "      <td>NaN</td>\n",
       "      <td>NaN</td>\n",
       "      <td>...</td>\n",
       "      <td>NaN</td>\n",
       "      <td>NaN</td>\n",
       "      <td>NaN</td>\n",
       "      <td>NaN</td>\n",
       "      <td>NaN</td>\n",
       "      <td>NaN</td>\n",
       "      <td>NaN</td>\n",
       "      <td>NaN</td>\n",
       "      <td>NaN</td>\n",
       "      <td>NaN</td>\n",
       "    </tr>\n",
       "    <tr>\n",
       "      <th>2</th>\n",
       "      <td>6502.0</td>\n",
       "      <td>53700.0</td>\n",
       "      <td>0.05</td>\n",
       "      <td>0.008</td>\n",
       "      <td>0.305</td>\n",
       "      <td>1.059487e+07</td>\n",
       "      <td>0.117492</td>\n",
       "      <td>0.882508</td>\n",
       "      <td>NaN</td>\n",
       "      <td>NaN</td>\n",
       "      <td>...</td>\n",
       "      <td>NaN</td>\n",
       "      <td>NaN</td>\n",
       "      <td>NaN</td>\n",
       "      <td>NaN</td>\n",
       "      <td>NaN</td>\n",
       "      <td>NaN</td>\n",
       "      <td>NaN</td>\n",
       "      <td>NaN</td>\n",
       "      <td>NaN</td>\n",
       "      <td>NaN</td>\n",
       "    </tr>\n",
       "    <tr>\n",
       "      <th>3</th>\n",
       "      <td>6602.0</td>\n",
       "      <td>53700.0</td>\n",
       "      <td>0.03</td>\n",
       "      <td>0.003</td>\n",
       "      <td>0.305</td>\n",
       "      <td>1.059776e+07</td>\n",
       "      <td>0.117138</td>\n",
       "      <td>0.882862</td>\n",
       "      <td>860887.258744</td>\n",
       "      <td>278.775058</td>\n",
       "      <td>...</td>\n",
       "      <td>NaN</td>\n",
       "      <td>NaN</td>\n",
       "      <td>NaN</td>\n",
       "      <td>NaN</td>\n",
       "      <td>NaN</td>\n",
       "      <td>NaN</td>\n",
       "      <td>NaN</td>\n",
       "      <td>NaN</td>\n",
       "      <td>NaN</td>\n",
       "      <td>NaN</td>\n",
       "    </tr>\n",
       "    <tr>\n",
       "      <th>4</th>\n",
       "      <td>6703.0</td>\n",
       "      <td>53700.0</td>\n",
       "      <td>0.03</td>\n",
       "      <td>0.003</td>\n",
       "      <td>0.304</td>\n",
       "      <td>1.060074e+07</td>\n",
       "      <td>0.116788</td>\n",
       "      <td>0.883212</td>\n",
       "      <td>NaN</td>\n",
       "      <td>NaN</td>\n",
       "      <td>...</td>\n",
       "      <td>NaN</td>\n",
       "      <td>NaN</td>\n",
       "      <td>NaN</td>\n",
       "      <td>NaN</td>\n",
       "      <td>NaN</td>\n",
       "      <td>NaN</td>\n",
       "      <td>NaN</td>\n",
       "      <td>NaN</td>\n",
       "      <td>NaN</td>\n",
       "      <td>NaN</td>\n",
       "    </tr>\n",
       "  </tbody>\n",
       "</table>\n",
       "<p>5 rows × 37 columns</p>\n",
       "</div>"
      ],
      "text/plain": [
       "   easting  northing  porosity  permeability  Poisson's ratio  \\\n",
       "0   6300.0   53700.0      0.05         0.009            0.305   \n",
       "1   6401.0   53700.0      0.03         0.004            0.305   \n",
       "2   6502.0   53700.0      0.05         0.008            0.305   \n",
       "3   6602.0   53700.0      0.03         0.003            0.305   \n",
       "4   6703.0   53700.0      0.03         0.003            0.304   \n",
       "\n",
       "   Young's Modulus  water saturation  oil saturation  proppant weight (lbs)  \\\n",
       "0     1.058935e+07          0.118212        0.881788          870417.418369   \n",
       "1     1.059206e+07          0.117850        0.882150                    NaN   \n",
       "2     1.059487e+07          0.117492        0.882508                    NaN   \n",
       "3     1.059776e+07          0.117138        0.882862          860887.258744   \n",
       "4     1.060074e+07          0.116788        0.883212                    NaN   \n",
       "\n",
       "   pump rate (cubic feet/min)  ...  water 3 water 4  water 5  water 6  \\\n",
       "0                  393.486280  ...      NaN     NaN      NaN      NaN   \n",
       "1                         NaN  ...      NaN     NaN      NaN      NaN   \n",
       "2                         NaN  ...      NaN     NaN      NaN      NaN   \n",
       "3                  278.775058  ...      NaN     NaN      NaN      NaN   \n",
       "4                         NaN  ...      NaN     NaN      NaN      NaN   \n",
       "\n",
       "   water 7  water 8  water 9  water 10  water 11  water 12  \n",
       "0      NaN      NaN      NaN       NaN       NaN       NaN  \n",
       "1      NaN      NaN      NaN       NaN       NaN       NaN  \n",
       "2      NaN      NaN      NaN       NaN       NaN       NaN  \n",
       "3      NaN      NaN      NaN       NaN       NaN       NaN  \n",
       "4      NaN      NaN      NaN       NaN       NaN       NaN  \n",
       "\n",
       "[5 rows x 37 columns]"
      ]
     },
     "execution_count": 2,
     "metadata": {},
     "output_type": "execute_result"
    }
   ],
   "source": [
    "data = pd.read_csv(r'../data/all_wells.csv')\n",
    "data.head()"
   ]
  },
  {
   "cell_type": "markdown",
   "metadata": {},
   "source": [
    "Build testing and training datasets in such a way that NaN values can be removed while keeping the predictor and target columns in sync"
   ]
  },
  {
   "cell_type": "code",
   "execution_count": 3,
   "metadata": {},
   "outputs": [],
   "source": [
    "def train_test_data(feature, test_size=0.8, random_state=0):\n",
    "    total_data = data[['easting', 'northing'] + [feature]].dropna()\n",
    "    x = total_data[['easting', 'northing']]\n",
    "    y = total_data[feature]\n",
    "    \n",
    "    return train_test_split(x, y, test_size=test_size, random_state=random_state)"
   ]
  },
  {
   "cell_type": "markdown",
   "metadata": {},
   "source": [
    "Get the testing and training datasets"
   ]
  },
  {
   "cell_type": "code",
   "execution_count": 4,
   "metadata": {},
   "outputs": [],
   "source": [
    "train_x, test_x, train_y, test_y = train_test_data('porosity')"
   ]
  },
  {
   "cell_type": "markdown",
   "metadata": {},
   "source": [
    "Build regressor"
   ]
  },
  {
   "cell_type": "code",
   "execution_count": null,
   "metadata": {},
   "outputs": [],
   "source": [
    "from sklearn.gaussian_process import GaussianProcessRegressor\n",
    "from sklearn.gaussian_process.kernels import RBF, ConstantKernel as C\n",
    "\n",
    "kernel = C(1.0, (1e-3, 1e3)) * RBF([5,5], (1e-2, 1e2))\n",
    "gp = GaussianProcessRegressor(kernel=kernel, n_restarts_optimizer=15)\n",
    "\n",
    "gp.fit(train_x, train_y)"
   ]
  },
  {
   "cell_type": "markdown",
   "metadata": {},
   "source": [
    "Plot model"
   ]
  },
  {
   "cell_type": "code",
   "execution_count": null,
   "metadata": {},
   "outputs": [],
   "source": [
    "x1 = np.linspace(data['easting'].values[:,0].min(), data['easting'].values[:,0].max()) #p\n",
    "x2 = np.linspace(data['northing'].values[:,1].min(), data['northing'].values[:,1].max()) #q\n",
    "x = (np.array([x1, x2])).T"
   ]
  }
 ],
 "metadata": {
  "kernelspec": {
   "display_name": "Python 3",
   "language": "python",
   "name": "python3"
  },
  "language_info": {
   "codemirror_mode": {
    "name": "ipython",
    "version": 3
   },
   "file_extension": ".py",
   "mimetype": "text/x-python",
   "name": "python",
   "nbconvert_exporter": "python",
   "pygments_lexer": "ipython3",
   "version": "3.7.4"
  }
 },
 "nbformat": 4,
 "nbformat_minor": 2
}
