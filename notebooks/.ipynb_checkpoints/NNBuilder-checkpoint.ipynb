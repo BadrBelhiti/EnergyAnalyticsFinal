{
 "cells": [
  {
   "cell_type": "code",
   "execution_count": 1,
   "metadata": {},
   "outputs": [],
   "source": [
    "import pandas as pd\n",
    "import numpy as np\n",
    "import matplotlib.pyplot as plt\n",
    "import torch\n",
    "from torch import nn\n",
    "from torch import optim\n",
    "from sklearn import preprocessing\n",
    "from sklearn.model_selection import train_test_split\n",
    "from sklearn.preprocessing import MinMaxScaler\n",
    "from sklearn.metrics import r2_score\n",
    "%matplotlib inline"
   ]
  },
  {
   "cell_type": "code",
   "execution_count": 2,
   "metadata": {
    "scrolled": true
   },
   "outputs": [
    {
     "data": {
      "text/html": [
       "<div>\n",
       "<style scoped>\n",
       "    .dataframe tbody tr th:only-of-type {\n",
       "        vertical-align: middle;\n",
       "    }\n",
       "\n",
       "    .dataframe tbody tr th {\n",
       "        vertical-align: top;\n",
       "    }\n",
       "\n",
       "    .dataframe thead th {\n",
       "        text-align: right;\n",
       "    }\n",
       "</style>\n",
       "<table border=\"1\" class=\"dataframe\">\n",
       "  <thead>\n",
       "    <tr style=\"text-align: right;\">\n",
       "      <th></th>\n",
       "      <th>easting</th>\n",
       "      <th>northing</th>\n",
       "      <th>porosity</th>\n",
       "      <th>permeability</th>\n",
       "      <th>Poisson's ratio</th>\n",
       "      <th>Young's Modulus</th>\n",
       "      <th>water saturation</th>\n",
       "      <th>oil saturation</th>\n",
       "      <th>proppant weight (lbs)</th>\n",
       "      <th>pump rate (cubic feet/min)</th>\n",
       "      <th>...</th>\n",
       "      <th>water 3</th>\n",
       "      <th>water 4</th>\n",
       "      <th>water 5</th>\n",
       "      <th>water 6</th>\n",
       "      <th>water 7</th>\n",
       "      <th>water 8</th>\n",
       "      <th>water 9</th>\n",
       "      <th>water 10</th>\n",
       "      <th>water 11</th>\n",
       "      <th>water 12</th>\n",
       "    </tr>\n",
       "  </thead>\n",
       "  <tbody>\n",
       "    <tr>\n",
       "      <th>0</th>\n",
       "      <td>6300.0</td>\n",
       "      <td>53700.0</td>\n",
       "      <td>0.05</td>\n",
       "      <td>0.009</td>\n",
       "      <td>0.305</td>\n",
       "      <td>1.058935e+07</td>\n",
       "      <td>0.118212</td>\n",
       "      <td>0.881788</td>\n",
       "      <td>870417.418369</td>\n",
       "      <td>393.486280</td>\n",
       "      <td>...</td>\n",
       "      <td>NaN</td>\n",
       "      <td>NaN</td>\n",
       "      <td>NaN</td>\n",
       "      <td>NaN</td>\n",
       "      <td>NaN</td>\n",
       "      <td>NaN</td>\n",
       "      <td>NaN</td>\n",
       "      <td>NaN</td>\n",
       "      <td>NaN</td>\n",
       "      <td>NaN</td>\n",
       "    </tr>\n",
       "    <tr>\n",
       "      <th>1</th>\n",
       "      <td>6401.0</td>\n",
       "      <td>53700.0</td>\n",
       "      <td>0.03</td>\n",
       "      <td>0.004</td>\n",
       "      <td>0.305</td>\n",
       "      <td>1.059206e+07</td>\n",
       "      <td>0.117850</td>\n",
       "      <td>0.882150</td>\n",
       "      <td>NaN</td>\n",
       "      <td>NaN</td>\n",
       "      <td>...</td>\n",
       "      <td>NaN</td>\n",
       "      <td>NaN</td>\n",
       "      <td>NaN</td>\n",
       "      <td>NaN</td>\n",
       "      <td>NaN</td>\n",
       "      <td>NaN</td>\n",
       "      <td>NaN</td>\n",
       "      <td>NaN</td>\n",
       "      <td>NaN</td>\n",
       "      <td>NaN</td>\n",
       "    </tr>\n",
       "    <tr>\n",
       "      <th>2</th>\n",
       "      <td>6502.0</td>\n",
       "      <td>53700.0</td>\n",
       "      <td>0.05</td>\n",
       "      <td>0.008</td>\n",
       "      <td>0.305</td>\n",
       "      <td>1.059487e+07</td>\n",
       "      <td>0.117492</td>\n",
       "      <td>0.882508</td>\n",
       "      <td>NaN</td>\n",
       "      <td>NaN</td>\n",
       "      <td>...</td>\n",
       "      <td>NaN</td>\n",
       "      <td>NaN</td>\n",
       "      <td>NaN</td>\n",
       "      <td>NaN</td>\n",
       "      <td>NaN</td>\n",
       "      <td>NaN</td>\n",
       "      <td>NaN</td>\n",
       "      <td>NaN</td>\n",
       "      <td>NaN</td>\n",
       "      <td>NaN</td>\n",
       "    </tr>\n",
       "    <tr>\n",
       "      <th>3</th>\n",
       "      <td>6602.0</td>\n",
       "      <td>53700.0</td>\n",
       "      <td>0.03</td>\n",
       "      <td>0.003</td>\n",
       "      <td>0.305</td>\n",
       "      <td>1.059776e+07</td>\n",
       "      <td>0.117138</td>\n",
       "      <td>0.882862</td>\n",
       "      <td>860887.258744</td>\n",
       "      <td>278.775058</td>\n",
       "      <td>...</td>\n",
       "      <td>NaN</td>\n",
       "      <td>NaN</td>\n",
       "      <td>NaN</td>\n",
       "      <td>NaN</td>\n",
       "      <td>NaN</td>\n",
       "      <td>NaN</td>\n",
       "      <td>NaN</td>\n",
       "      <td>NaN</td>\n",
       "      <td>NaN</td>\n",
       "      <td>NaN</td>\n",
       "    </tr>\n",
       "    <tr>\n",
       "      <th>4</th>\n",
       "      <td>6703.0</td>\n",
       "      <td>53700.0</td>\n",
       "      <td>0.03</td>\n",
       "      <td>0.003</td>\n",
       "      <td>0.304</td>\n",
       "      <td>1.060074e+07</td>\n",
       "      <td>0.116788</td>\n",
       "      <td>0.883212</td>\n",
       "      <td>NaN</td>\n",
       "      <td>NaN</td>\n",
       "      <td>...</td>\n",
       "      <td>NaN</td>\n",
       "      <td>NaN</td>\n",
       "      <td>NaN</td>\n",
       "      <td>NaN</td>\n",
       "      <td>NaN</td>\n",
       "      <td>NaN</td>\n",
       "      <td>NaN</td>\n",
       "      <td>NaN</td>\n",
       "      <td>NaN</td>\n",
       "      <td>NaN</td>\n",
       "    </tr>\n",
       "  </tbody>\n",
       "</table>\n",
       "<p>5 rows × 37 columns</p>\n",
       "</div>"
      ],
      "text/plain": [
       "   easting  northing  porosity  permeability  Poisson's ratio  \\\n",
       "0   6300.0   53700.0      0.05         0.009            0.305   \n",
       "1   6401.0   53700.0      0.03         0.004            0.305   \n",
       "2   6502.0   53700.0      0.05         0.008            0.305   \n",
       "3   6602.0   53700.0      0.03         0.003            0.305   \n",
       "4   6703.0   53700.0      0.03         0.003            0.304   \n",
       "\n",
       "   Young's Modulus  water saturation  oil saturation  proppant weight (lbs)  \\\n",
       "0     1.058935e+07          0.118212        0.881788          870417.418369   \n",
       "1     1.059206e+07          0.117850        0.882150                    NaN   \n",
       "2     1.059487e+07          0.117492        0.882508                    NaN   \n",
       "3     1.059776e+07          0.117138        0.882862          860887.258744   \n",
       "4     1.060074e+07          0.116788        0.883212                    NaN   \n",
       "\n",
       "   pump rate (cubic feet/min)  ...  water 3 water 4  water 5  water 6  \\\n",
       "0                  393.486280  ...      NaN     NaN      NaN      NaN   \n",
       "1                         NaN  ...      NaN     NaN      NaN      NaN   \n",
       "2                         NaN  ...      NaN     NaN      NaN      NaN   \n",
       "3                  278.775058  ...      NaN     NaN      NaN      NaN   \n",
       "4                         NaN  ...      NaN     NaN      NaN      NaN   \n",
       "\n",
       "   water 7  water 8  water 9  water 10  water 11  water 12  \n",
       "0      NaN      NaN      NaN       NaN       NaN       NaN  \n",
       "1      NaN      NaN      NaN       NaN       NaN       NaN  \n",
       "2      NaN      NaN      NaN       NaN       NaN       NaN  \n",
       "3      NaN      NaN      NaN       NaN       NaN       NaN  \n",
       "4      NaN      NaN      NaN       NaN       NaN       NaN  \n",
       "\n",
       "[5 rows x 37 columns]"
      ]
     },
     "execution_count": 2,
     "metadata": {},
     "output_type": "execute_result"
    }
   ],
   "source": [
    "data = pd.read_csv(r'../data/all_wells.csv')\n",
    "data.head()"
   ]
  },
  {
   "cell_type": "code",
   "execution_count": 3,
   "metadata": {},
   "outputs": [],
   "source": [
    "min_max_scaler = preprocessing.MinMaxScaler()"
   ]
  },
  {
   "cell_type": "code",
   "execution_count": 4,
   "metadata": {},
   "outputs": [],
   "source": [
    "def build_datasets(feature, test_size=0.8, random_state=0):\n",
    "    total_data = data[['easting', 'northing', feature]].dropna()\n",
    "    scaled_x = pd.DataFrame(min_max_scaler.fit_transform(total_data[['easting', 'northing']]))\n",
    "    scaled_y = pd.DataFrame(min_max_scaler.fit_transform(total_data[feature].values.reshape(-1, 1)))\n",
    "    train_x, test_x, train_y, test_y = train_test_split(scaled_x, scaled_y, test_size=test_size, random_state=random_state)\n",
    "    \n",
    "    train = torch.utils.data.TensorDataset(torch.Tensor(np.array(train_x)), torch.Tensor(np.array(train_y)))\n",
    "    train_loader = torch.utils.data.DataLoader(train, batch_size = 64, shuffle = True)\n",
    "    \n",
    "    return (train_loader, test_x, test_y)"
   ]
  },
  {
   "cell_type": "code",
   "execution_count": 5,
   "metadata": {},
   "outputs": [],
   "source": [
    "def train_model(model, optimizer, train_loader, criterion=nn.SmoothL1Loss(), epochs=100):\n",
    "    for e in range(epochs):\n",
    "        running_loss = 0\n",
    "        for features, labels in train_loader:\n",
    "            optimizer.zero_grad()\n",
    "            forward_pass = model(features)\n",
    "            loss = criterion(forward_pass, labels.type(torch.FloatTensor))\n",
    "            loss.backward()\n",
    "            optimizer.step()\n",
    "\n",
    "            running_loss += loss.item()\n",
    "        if (e + 1) % (epochs // 10) == 0:\n",
    "            print(\"===================== Epoch %d =====================\" % (e + 1))\n",
    "            print(\"Training loss: %.10f\" % (running_loss / len(train_loader)))"
   ]
  },
  {
   "cell_type": "code",
   "execution_count": 6,
   "metadata": {},
   "outputs": [],
   "source": [
    "def plot_feature(model, feature, precision=2000):\n",
    "    easting = data['easting']\n",
    "    northing = data['northing']\n",
    "    grid = np.mgrid[easting.min():easting.max():precision, northing.min():northing.max():precision]\n",
    "    grid = grid.reshape((2, -1))\n",
    "\n",
    "    input_array = []\n",
    "\n",
    "    for i in range(len(grid[0])):\n",
    "        input_array.append((grid[0][i], grid[1][i]))\n",
    "\n",
    "    with torch.no_grad():\n",
    "        features = torch.tensor(min_max_scaler.fit_transform(np.array(input_array))).float();\n",
    "        predictions = min_max_scaler.fit_transform(model(features))[:, 0]\n",
    "\n",
    "        plt.xlabel('easting')\n",
    "        plt.ylabel('northing')\n",
    "        plt.scatter(grid[0], grid[1], c=predictions)\n",
    "        plt.colorbar()"
   ]
  },
  {
   "cell_type": "code",
   "execution_count": 7,
   "metadata": {},
   "outputs": [],
   "source": [
    "def score_model(model, test_x, test_y):\n",
    "    with torch.no_grad():\n",
    "        predictions = model(torch.tensor(np.array(test_x)).float())\n",
    "        print(r2_score(predictions, test_y))"
   ]
  },
  {
   "cell_type": "code",
   "execution_count": 22,
   "metadata": {},
   "outputs": [],
   "source": [
    "model = nn.Sequential(nn.Linear(2, 6),\n",
    "                      nn.ReLU(),\n",
    "                      nn.Linear(6, 6),\n",
    "                      nn.ReLU(),\n",
    "                      nn.Linear(6, 6),\n",
    "                      nn.ReLU(),\n",
    "                      nn.Linear(6, 6),\n",
    "                      nn.ReLU(),\n",
    "                      nn.Linear(6, 1),\n",
    "                     )\n",
    "\n",
    "train_loader, test_x, test_y = build_datasets('porosity')"
   ]
  },
  {
   "cell_type": "code",
   "execution_count": 23,
   "metadata": {},
   "outputs": [
    {
     "name": "stdout",
     "output_type": "stream",
     "text": [
      "===================== Epoch 50 =====================\n",
      "Training loss: 0.0083861156\n",
      "===================== Epoch 100 =====================\n",
      "Training loss: 0.0083131081\n",
      "===================== Epoch 150 =====================\n",
      "Training loss: 0.0081894812\n",
      "===================== Epoch 200 =====================\n",
      "Training loss: 0.0081894389\n",
      "===================== Epoch 250 =====================\n",
      "Training loss: 0.0081801564\n",
      "===================== Epoch 300 =====================\n",
      "Training loss: 0.0081222251\n",
      "===================== Epoch 350 =====================\n",
      "Training loss: 0.0080883435\n",
      "===================== Epoch 400 =====================\n",
      "Training loss: 0.0080346327\n",
      "===================== Epoch 450 =====================\n",
      "Training loss: 0.0080476198\n",
      "===================== Epoch 500 =====================\n",
      "Training loss: 0.0079060237\n"
     ]
    }
   ],
   "source": [
    "train_model(model, optim.SGD(model.parameters(), lr=0.1), train_loader, epochs=500)"
   ]
  },
  {
   "cell_type": "code",
   "execution_count": 24,
   "metadata": {},
   "outputs": [
    {
     "data": {
      "image/png": "[encoded data removed]",
      "text/plain": [
       "<Figure size 432x288 with 2 Axes>"
      ]
     },
     "metadata": {
      "needs_background": "light"
     },
     "output_type": "display_data"
    }
   ],
   "source": [
    "plot_feature(model, 'porosity')"
   ]
  },
  {
   "cell_type": "code",
   "execution_count": 25,
   "metadata": {},
   "outputs": [
    {
     "name": "stdout",
     "output_type": "stream",
     "text": [
      "0.3668996616086412\n"
     ]
    }
   ],
   "source": [
    "score_model(model, test_x, test_y)"
   ]
  },
  {
   "cell_type": "code",
   "execution_count": null,
   "metadata": {},
   "outputs": [],
   "source": []
  }
 ],
 "metadata": {
  "kernelspec": {
   "display_name": "Python 3",
   "language": "python",
   "name": "python3"
  },
  "language_info": {
   "codemirror_mode": {
    "name": "ipython",
    "version": 3
   },
   "file_extension": ".py",
   "mimetype": "text/x-python",
   "name": "python",
   "nbconvert_exporter": "python",
   "pygments_lexer": "ipython3",
   "version": "3.7.4"
  }
 },
 "nbformat": 4,
 "nbformat_minor": 4
}
