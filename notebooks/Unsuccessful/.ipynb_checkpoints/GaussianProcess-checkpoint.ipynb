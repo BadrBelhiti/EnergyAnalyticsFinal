{
 "cells": [
  {
   "cell_type": "code",
   "execution_count": 1,
   "metadata": {},
   "outputs": [],
   "source": [
    "import numpy as np\n",
    "import pandas as pd\n",
    "import matplotlib.pyplot as plt\n",
    "from sklearn.model_selection import train_test_split\n",
    "from itertools import product"
   ]
  },
  {
   "cell_type": "markdown",
   "metadata": {},
   "source": [
    "Read in data"
   ]
  },
  {
   "cell_type": "code",
   "execution_count": 3,
   "metadata": {
    "scrolled": true
   },
   "outputs": [
    {
     "data": {
      "text/html": [
       "<div>\n",
       "<style scoped>\n",
       "    .dataframe tbody tr th:only-of-type {\n",
       "        vertical-align: middle;\n",
       "    }\n",
       "\n",
       "    .dataframe tbody tr th {\n",
       "        vertical-align: top;\n",
       "    }\n",
       "\n",
       "    .dataframe thead th {\n",
       "        text-align: right;\n",
       "    }\n",
       "</style>\n",
       "<table border=\"1\" class=\"dataframe\">\n",
       "  <thead>\n",
       "    <tr style=\"text-align: right;\">\n",
       "      <th></th>\n",
       "      <th>easting</th>\n",
       "      <th>northing</th>\n",
       "      <th>porosity</th>\n",
       "      <th>permeability</th>\n",
       "      <th>Poisson's ratio</th>\n",
       "      <th>Young's Modulus</th>\n",
       "      <th>water saturation</th>\n",
       "      <th>oil saturation</th>\n",
       "      <th>proppant weight (lbs)</th>\n",
       "      <th>pump rate (cubic feet/min)</th>\n",
       "      <th>name</th>\n",
       "      <th>cumulative production</th>\n",
       "    </tr>\n",
       "  </thead>\n",
       "  <tbody>\n",
       "    <tr>\n",
       "      <th>0</th>\n",
       "      <td>66100.0</td>\n",
       "      <td>22300.0</td>\n",
       "      <td>0.09</td>\n",
       "      <td>0.033</td>\n",
       "      <td>0.332</td>\n",
       "      <td>9440769.483</td>\n",
       "      <td>0.124740</td>\n",
       "      <td>0.875260</td>\n",
       "      <td>260036.414279</td>\n",
       "      <td>275.737593</td>\n",
       "      <td>Tarragon 4-119H</td>\n",
       "      <td>81324.0</td>\n",
       "    </tr>\n",
       "    <tr>\n",
       "      <th>1</th>\n",
       "      <td>66199.0</td>\n",
       "      <td>22300.0</td>\n",
       "      <td>0.12</td>\n",
       "      <td>0.057</td>\n",
       "      <td>0.332</td>\n",
       "      <td>9429043.880</td>\n",
       "      <td>0.124979</td>\n",
       "      <td>0.875021</td>\n",
       "      <td>NaN</td>\n",
       "      <td>NaN</td>\n",
       "      <td>Tarragon 4-119H</td>\n",
       "      <td>81324.0</td>\n",
       "    </tr>\n",
       "    <tr>\n",
       "      <th>2</th>\n",
       "      <td>66297.0</td>\n",
       "      <td>22300.0</td>\n",
       "      <td>0.11</td>\n",
       "      <td>0.050</td>\n",
       "      <td>0.332</td>\n",
       "      <td>9417413.010</td>\n",
       "      <td>0.125221</td>\n",
       "      <td>0.874779</td>\n",
       "      <td>429740.754787</td>\n",
       "      <td>324.145032</td>\n",
       "      <td>Tarragon 4-119H</td>\n",
       "      <td>81324.0</td>\n",
       "    </tr>\n",
       "    <tr>\n",
       "      <th>3</th>\n",
       "      <td>66396.0</td>\n",
       "      <td>22300.0</td>\n",
       "      <td>0.08</td>\n",
       "      <td>0.024</td>\n",
       "      <td>0.332</td>\n",
       "      <td>9405879.454</td>\n",
       "      <td>0.125469</td>\n",
       "      <td>0.874531</td>\n",
       "      <td>NaN</td>\n",
       "      <td>NaN</td>\n",
       "      <td>Tarragon 4-119H</td>\n",
       "      <td>81324.0</td>\n",
       "    </tr>\n",
       "    <tr>\n",
       "      <th>4</th>\n",
       "      <td>66495.0</td>\n",
       "      <td>22300.0</td>\n",
       "      <td>0.08</td>\n",
       "      <td>0.031</td>\n",
       "      <td>0.332</td>\n",
       "      <td>9394445.773</td>\n",
       "      <td>0.125720</td>\n",
       "      <td>0.874280</td>\n",
       "      <td>485657.822229</td>\n",
       "      <td>320.868488</td>\n",
       "      <td>Tarragon 4-119H</td>\n",
       "      <td>81324.0</td>\n",
       "    </tr>\n",
       "  </tbody>\n",
       "</table>\n",
       "</div>"
      ],
      "text/plain": [
       "   easting  northing  porosity  permeability  Poisson's ratio  \\\n",
       "0  66100.0   22300.0      0.09         0.033            0.332   \n",
       "1  66199.0   22300.0      0.12         0.057            0.332   \n",
       "2  66297.0   22300.0      0.11         0.050            0.332   \n",
       "3  66396.0   22300.0      0.08         0.024            0.332   \n",
       "4  66495.0   22300.0      0.08         0.031            0.332   \n",
       "\n",
       "   Young's Modulus  water saturation  oil saturation  proppant weight (lbs)  \\\n",
       "0      9440769.483          0.124740        0.875260          260036.414279   \n",
       "1      9429043.880          0.124979        0.875021                    NaN   \n",
       "2      9417413.010          0.125221        0.874779          429740.754787   \n",
       "3      9405879.454          0.125469        0.874531                    NaN   \n",
       "4      9394445.773          0.125720        0.874280          485657.822229   \n",
       "\n",
       "   pump rate (cubic feet/min)             name  cumulative production  \n",
       "0                  275.737593  Tarragon 4-119H                81324.0  \n",
       "1                         NaN  Tarragon 4-119H                81324.0  \n",
       "2                  324.145032  Tarragon 4-119H                81324.0  \n",
       "3                         NaN  Tarragon 4-119H                81324.0  \n",
       "4                  320.868488  Tarragon 4-119H                81324.0  "
      ]
     },
     "execution_count": 3,
     "metadata": {},
     "output_type": "execute_result"
    }
   ],
   "source": [
    "data = pd.read_csv(r'../../data/all_wells.csv')\n",
    "data.head()"
   ]
  },
  {
   "cell_type": "markdown",
   "metadata": {},
   "source": [
    "Build testing and training datasets in such a way that NaN values can be removed while keeping the predictor and target columns in sync"
   ]
  },
  {
   "cell_type": "code",
   "execution_count": 4,
   "metadata": {},
   "outputs": [],
   "source": [
    "def train_test_data(feature, test_size=0.8, random_state=0):\n",
    "    total_data = data[['easting', 'northing'] + [feature]].dropna()\n",
    "    x = total_data[['easting', 'northing']]\n",
    "    y = total_data[feature]\n",
    "    \n",
    "    return train_test_split(x, y, test_size=test_size, random_state=random_state)"
   ]
  },
  {
   "cell_type": "markdown",
   "metadata": {},
   "source": [
    "Method for plotting model"
   ]
  },
  {
   "cell_type": "code",
   "execution_count": 5,
   "metadata": {},
   "outputs": [],
   "source": [
    "def predict_and_plot(model, precision=2000):\n",
    "    valid_data = data[['easting', 'northing']].dropna()\n",
    "    easting = valid_data['easting']\n",
    "    northing = valid_data['northing']\n",
    "    grid = np.mgrid[easting.min():easting.max():precision, northing.min():northing.max():precision]\n",
    "    grid = grid.reshape((2, -1))\n",
    "\n",
    "    input_array = []\n",
    "\n",
    "    for i in range(len(grid[0])):\n",
    "        input_array.append((grid[0][i], grid[1][i]))\n",
    "\n",
    "    predictions = model.predict(input_array)\n",
    "    print(len(predictions), grid.shape)\n",
    "\n",
    "    plt.xlabel('easting')\n",
    "    plt.ylabel('northing')\n",
    "    plt.scatter(grid[0], grid[1], c=predictions)\n",
    "    plt.colorbar()"
   ]
  },
  {
   "cell_type": "markdown",
   "metadata": {},
   "source": [
    "Get the testing and training datasets"
   ]
  },
  {
   "cell_type": "code",
   "execution_count": 6,
   "metadata": {},
   "outputs": [],
   "source": [
    "train_x, test_x, train_y, test_y = train_test_data('porosity')"
   ]
  },
  {
   "cell_type": "markdown",
   "metadata": {},
   "source": [
    "Build regressor"
   ]
  },
  {
   "cell_type": "code",
   "execution_count": 7,
   "metadata": {
    "scrolled": true
   },
   "outputs": [
    {
     "data": {
      "text/plain": [
       "GaussianProcessRegressor(alpha=1e-10, copy_X_train=True,\n",
       "                         kernel=RBF(length_scale=100), n_restarts_optimizer=0,\n",
       "                         normalize_y=False, optimizer='fmin_l_bfgs_b',\n",
       "                         random_state=None)"
      ]
     },
     "execution_count": 7,
     "metadata": {},
     "output_type": "execute_result"
    }
   ],
   "source": [
    "from sklearn.gaussian_process import GaussianProcessRegressor\n",
    "from sklearn.gaussian_process.kernels import RBF, ConstantKernel as C\n",
    "\n",
    "kernel = RBF(1e2)\n",
    "gp = GaussianProcessRegressor(kernel=kernel)\n",
    "\n",
    "gp.fit(train_x, train_y)"
   ]
  },
  {
   "cell_type": "markdown",
   "metadata": {},
   "source": [
    "Plot model"
   ]
  },
  {
   "cell_type": "code",
   "execution_count": 8,
   "metadata": {},
   "outputs": [
    {
     "name": "stdout",
     "output_type": "stream",
     "text": [
      "2400 (2, 2400)\n"
     ]
    },
    {
     "data": {
      "image/png": "[encoded data removed]",
      "text/plain": [
       "<Figure size 432x288 with 2 Axes>"
      ]
     },
     "metadata": {
      "needs_background": "light"
     },
     "output_type": "display_data"
    }
   ],
   "source": [
    "predict_and_plot(gp)"
   ]
  },
  {
   "cell_type": "code",
   "execution_count": 9,
   "metadata": {},
   "outputs": [
    {
     "data": {
      "text/plain": [
       "-8.724998140650044"
      ]
     },
     "execution_count": 9,
     "metadata": {},
     "output_type": "execute_result"
    }
   ],
   "source": [
    "gp.score(test_x, test_y)"
   ]
  }
 ],
 "metadata": {
  "kernelspec": {
   "display_name": "Python 3",
   "language": "python",
   "name": "python3"
  },
  "language_info": {
   "codemirror_mode": {
    "name": "ipython",
    "version": 3
   },
   "file_extension": ".py",
   "mimetype": "text/x-python",
   "name": "python",
   "nbconvert_exporter": "python",
   "pygments_lexer": "ipython3",
   "version": "3.7.4"
  }
 },
 "nbformat": 4,
 "nbformat_minor": 2
}
