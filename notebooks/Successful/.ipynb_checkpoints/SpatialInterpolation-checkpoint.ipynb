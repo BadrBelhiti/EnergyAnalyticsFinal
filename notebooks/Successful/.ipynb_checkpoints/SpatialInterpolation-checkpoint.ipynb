{
 "cells": [
  {
   "cell_type": "code",
   "execution_count": 1,
   "metadata": {},
   "outputs": [],
   "source": [
    "import numpy as np\n",
    "import pandas as pd\n",
    "import matplotlib.pyplot as plt\n",
    "import scipy\n",
    "from sklearn.model_selection import train_test_split\n",
    "from sklearn.metrics import r2_score\n",
    "from scipy import interpolate\n",
    "import verde as vd"
   ]
  },
  {
   "cell_type": "markdown",
   "metadata": {},
   "source": [
    "Read in data"
   ]
  },
  {
   "cell_type": "code",
   "execution_count": 2,
   "metadata": {},
   "outputs": [
    {
     "data": {
      "text/html": [
       "<div>\n",
       "<style scoped>\n",
       "    .dataframe tbody tr th:only-of-type {\n",
       "        vertical-align: middle;\n",
       "    }\n",
       "\n",
       "    .dataframe tbody tr th {\n",
       "        vertical-align: top;\n",
       "    }\n",
       "\n",
       "    .dataframe thead th {\n",
       "        text-align: right;\n",
       "    }\n",
       "</style>\n",
       "<table border=\"1\" class=\"dataframe\">\n",
       "  <thead>\n",
       "    <tr style=\"text-align: right;\">\n",
       "      <th></th>\n",
       "      <th>easting</th>\n",
       "      <th>northing</th>\n",
       "      <th>porosity</th>\n",
       "      <th>permeability</th>\n",
       "      <th>Poisson's ratio</th>\n",
       "      <th>Young's Modulus</th>\n",
       "      <th>water saturation</th>\n",
       "      <th>oil saturation</th>\n",
       "      <th>proppant weight (lbs)</th>\n",
       "      <th>pump rate (cubic feet/min)</th>\n",
       "      <th>name</th>\n",
       "      <th>cumulative production</th>\n",
       "    </tr>\n",
       "  </thead>\n",
       "  <tbody>\n",
       "    <tr>\n",
       "      <th>0</th>\n",
       "      <td>66100.0</td>\n",
       "      <td>22300.0</td>\n",
       "      <td>0.09</td>\n",
       "      <td>0.033</td>\n",
       "      <td>0.332</td>\n",
       "      <td>9440769.483</td>\n",
       "      <td>0.124740</td>\n",
       "      <td>0.875260</td>\n",
       "      <td>260036.414279</td>\n",
       "      <td>275.737593</td>\n",
       "      <td>Tarragon 4-119H</td>\n",
       "      <td>81324.0</td>\n",
       "    </tr>\n",
       "    <tr>\n",
       "      <th>1</th>\n",
       "      <td>66199.0</td>\n",
       "      <td>22300.0</td>\n",
       "      <td>0.12</td>\n",
       "      <td>0.057</td>\n",
       "      <td>0.332</td>\n",
       "      <td>9429043.880</td>\n",
       "      <td>0.124979</td>\n",
       "      <td>0.875021</td>\n",
       "      <td>NaN</td>\n",
       "      <td>NaN</td>\n",
       "      <td>Tarragon 4-119H</td>\n",
       "      <td>81324.0</td>\n",
       "    </tr>\n",
       "    <tr>\n",
       "      <th>2</th>\n",
       "      <td>66297.0</td>\n",
       "      <td>22300.0</td>\n",
       "      <td>0.11</td>\n",
       "      <td>0.050</td>\n",
       "      <td>0.332</td>\n",
       "      <td>9417413.010</td>\n",
       "      <td>0.125221</td>\n",
       "      <td>0.874779</td>\n",
       "      <td>429740.754787</td>\n",
       "      <td>324.145032</td>\n",
       "      <td>Tarragon 4-119H</td>\n",
       "      <td>81324.0</td>\n",
       "    </tr>\n",
       "    <tr>\n",
       "      <th>3</th>\n",
       "      <td>66396.0</td>\n",
       "      <td>22300.0</td>\n",
       "      <td>0.08</td>\n",
       "      <td>0.024</td>\n",
       "      <td>0.332</td>\n",
       "      <td>9405879.454</td>\n",
       "      <td>0.125469</td>\n",
       "      <td>0.874531</td>\n",
       "      <td>NaN</td>\n",
       "      <td>NaN</td>\n",
       "      <td>Tarragon 4-119H</td>\n",
       "      <td>81324.0</td>\n",
       "    </tr>\n",
       "    <tr>\n",
       "      <th>4</th>\n",
       "      <td>66495.0</td>\n",
       "      <td>22300.0</td>\n",
       "      <td>0.08</td>\n",
       "      <td>0.031</td>\n",
       "      <td>0.332</td>\n",
       "      <td>9394445.773</td>\n",
       "      <td>0.125720</td>\n",
       "      <td>0.874280</td>\n",
       "      <td>485657.822229</td>\n",
       "      <td>320.868488</td>\n",
       "      <td>Tarragon 4-119H</td>\n",
       "      <td>81324.0</td>\n",
       "    </tr>\n",
       "  </tbody>\n",
       "</table>\n",
       "</div>"
      ],
      "text/plain": [
       "   easting  northing  porosity  permeability  Poisson's ratio  \\\n",
       "0  66100.0   22300.0      0.09         0.033            0.332   \n",
       "1  66199.0   22300.0      0.12         0.057            0.332   \n",
       "2  66297.0   22300.0      0.11         0.050            0.332   \n",
       "3  66396.0   22300.0      0.08         0.024            0.332   \n",
       "4  66495.0   22300.0      0.08         0.031            0.332   \n",
       "\n",
       "   Young's Modulus  water saturation  oil saturation  proppant weight (lbs)  \\\n",
       "0      9440769.483          0.124740        0.875260          260036.414279   \n",
       "1      9429043.880          0.124979        0.875021                    NaN   \n",
       "2      9417413.010          0.125221        0.874779          429740.754787   \n",
       "3      9405879.454          0.125469        0.874531                    NaN   \n",
       "4      9394445.773          0.125720        0.874280          485657.822229   \n",
       "\n",
       "   pump rate (cubic feet/min)             name  cumulative production  \n",
       "0                  275.737593  Tarragon 4-119H                81324.0  \n",
       "1                         NaN  Tarragon 4-119H                81324.0  \n",
       "2                  324.145032  Tarragon 4-119H                81324.0  \n",
       "3                         NaN  Tarragon 4-119H                81324.0  \n",
       "4                  320.868488  Tarragon 4-119H                81324.0  "
      ]
     },
     "execution_count": 2,
     "metadata": {},
     "output_type": "execute_result"
    }
   ],
   "source": [
    "data = pd.read_csv(r'../data/all_wells.csv')\n",
    "data.head()"
   ]
  },
  {
   "cell_type": "markdown",
   "metadata": {},
   "source": [
    "Drop any NaN rows and build training and testing datasets"
   ]
  },
  {
   "cell_type": "code",
   "execution_count": 3,
   "metadata": {},
   "outputs": [],
   "source": [
    "features = data[['easting', 'northing', 'permeability']].dropna()\n",
    "train_x, test_x, train_y, test_y = train_test_split(features[['easting', 'northing']], features['permeability'], test_size=0.6, random_state=0)"
   ]
  },
  {
   "cell_type": "markdown",
   "metadata": {},
   "source": [
    "## SciPy's interpolation"
   ]
  },
  {
   "cell_type": "code",
   "execution_count": 4,
   "metadata": {},
   "outputs": [
    {
     "name": "stderr",
     "output_type": "stream",
     "text": [
      "/home/badr/anaconda3/lib/python3.8/site-packages/scipy/interpolate/_fitpack_impl.py:977: RuntimeWarning: A theoretically impossible result when finding a smoothing spline\n",
      "with fp = s. Probable causes: s too small or badly chosen eps.\n",
      "(abs(fp-s)/s>0.001)\n",
      "\tkx,ky=5,5 nx,ny=23,21 m=10000 fp=15208.379604 s=0.000000\n",
      "  warnings.warn(RuntimeWarning(_iermess2[ierm][0] + _mess))\n"
     ]
    }
   ],
   "source": [
    "interpolated_function = interpolate.interp2d(features['easting'].values, features['northing'].values, features['permeability'].values, kind='quintic')"
   ]
  },
  {
   "cell_type": "code",
   "execution_count": 5,
   "metadata": {},
   "outputs": [],
   "source": [
    "def plot_feature(function, feature, precision=100):\n",
    "    easting = data['easting']\n",
    "    northing = data['northing']\n",
    "    x = np.linspace(easting.min(), easting.max(), precision)\n",
    "    y = np.linspace(northing.min(), northing.max(), precision)\n",
    "\n",
    "    predictions = function(x, y).reshape(precision, precision)\n",
    "        \n",
    "    plt.xlabel('easting')\n",
    "    plt.ylabel('northing')\n",
    "    plt.imshow(predictions, vmin=features[feature].min(), vmax=features[feature].max())\n",
    "    plt.colorbar()"
   ]
  },
  {
   "cell_type": "code",
   "execution_count": 6,
   "metadata": {
    "scrolled": true
   },
   "outputs": [
    {
     "data": {
      "image/png": "[encoded data removed]",
      "text/plain": [
       "<Figure size 432x288 with 2 Axes>"
      ]
     },
     "metadata": {
      "needs_background": "light"
     },
     "output_type": "display_data"
    }
   ],
   "source": [
    "plot_feature(interpolated_function, 'permeability')"
   ]
  },
  {
   "cell_type": "markdown",
   "metadata": {},
   "source": [
    "## Numpy's polyfit interpolation"
   ]
  },
  {
   "cell_type": "code",
   "execution_count": 8,
   "metadata": {
    "scrolled": false
   },
   "outputs": [
    {
     "data": {
      "text/plain": [
       "<matplotlib.colorbar.Colorbar at 0x7f3086330ca0>"
      ]
     },
     "execution_count": 8,
     "metadata": {},
     "output_type": "execute_result"
    },
    {
     "data": {
      "image/png": "[encoded data removed]",
      "text/plain": [
       "<Figure size 432x288 with 2 Axes>"
      ]
     },
     "metadata": {
      "needs_background": "light"
     },
     "output_type": "display_data"
    }
   ],
   "source": [
    "feature='permeability'\n",
    "degree = 3\n",
    "precision = 100\n",
    "easting = data['easting']\n",
    "northing = data['northing']\n",
    "x = np.linspace(easting.min(), easting.max(), precision)\n",
    "y = np.linspace(northing.min(), northing.max(), precision)\n",
    "coefficients = np.polyfit(x, y, degree)\n",
    "\n",
    "# predictions = np.polynomial.polynomial.polyval2d(x, y, coefficients).reshape(1, 1)\n",
    "predictions = []\n",
    "\n",
    "for i in range(x.shape[0]):\n",
    "    for j in range(y.shape[0]):\n",
    "        predictions.append(np.polynomial.polynomial.polyval2d(x[i], y[j], coefficients))\n",
    "\n",
    "predictions = np.array(predictions).reshape(precision, precision)\n",
    "        \n",
    "plt.xlabel('easting')\n",
    "plt.ylabel('northing')    \n",
    "plt.imshow(predictions, vmin=features[feature].min(), vmax=features[feature].max())\n",
    "plt.colorbar()"
   ]
  },
  {
   "cell_type": "markdown",
   "metadata": {},
   "source": [
    "Decided to switch it up and interpolate permeability"
   ]
  },
  {
   "cell_type": "code",
   "execution_count": 124,
   "metadata": {},
   "outputs": [],
   "source": [
    "features = features[['easting', 'northing', 'permeability']].dropna()\n",
    "x = features[['easting', 'northing']]\n",
    "y = features['permeability']"
   ]
  },
  {
   "cell_type": "markdown",
   "metadata": {},
   "source": [
    "## Verde Spline"
   ]
  },
  {
   "cell_type": "code",
   "execution_count": 125,
   "metadata": {},
   "outputs": [
    {
     "data": {
      "text/plain": [
       "Spline()"
      ]
     },
     "execution_count": 125,
     "metadata": {},
     "output_type": "execute_result"
    }
   ],
   "source": [
    "spline = vd.Spline()\n",
    "spline.fit((train_x['easting'], train_x['northing']), train_y)"
   ]
  },
  {
   "cell_type": "code",
   "execution_count": 126,
   "metadata": {},
   "outputs": [
    {
     "data": {
      "image/png": "[encoded data removed]",
      "text/plain": [
       "<Figure size 432x288 with 2 Axes>"
      ]
     },
     "metadata": {
      "needs_background": "light"
     },
     "output_type": "display_data"
    }
   ],
   "source": [
    "grid_coords = vd.grid_coordinates(region=(easting.min(), easting.max(), northing.min(), northing.max()), spacing=100)\n",
    "gridded_scalars = spline.predict(grid_coords)\n",
    "\n",
    "plt.figure()\n",
    "plt.pcolormesh(grid_coords[0], grid_coords[1], gridded_scalars)\n",
    "plt.colorbar()\n",
    "plt.show()"
   ]
  },
  {
   "cell_type": "code",
   "execution_count": 127,
   "metadata": {
    "scrolled": true
   },
   "outputs": [
    {
     "data": {
      "text/plain": [
       "-1.0104858821331537"
      ]
     },
     "execution_count": 127,
     "metadata": {},
     "output_type": "execute_result"
    }
   ],
   "source": [
    "predicted = spline.predict(np.array((easting, northing)))\n",
    "spline.score((test_x['easting'], test_x['northing']), test_y)"
   ]
  },
  {
   "cell_type": "markdown",
   "metadata": {},
   "source": [
    "Getting pretty desperate trying to increase permeability's score"
   ]
  },
  {
   "cell_type": "code",
   "execution_count": 146,
   "metadata": {},
   "outputs": [],
   "source": [
    "def find_seed(n=100, test_size=0.8):\n",
    "    max_score = 0\n",
    "    best_seed = 0\n",
    "    best_spline = None\n",
    "    for seed in range(n):\n",
    "        train_x, test_x, train_y, test_y = train_test_split(x, y, test_size=test_size, random_state=seed)\n",
    "        easting = features['easting']\n",
    "        northing = features['northing']\n",
    "        permeability = features['permeability']\n",
    "        \n",
    "        spline = vd.Spline()\n",
    "        spline.fit((train_x['easting'], train_x['northing']), train_y)\n",
    "        \n",
    "        predicted = spline.predict(np.array((easting, northing)))\n",
    "        score = spline.score((test_x['easting'], test_x['northing']), test_y)\n",
    "        \n",
    "        if score > max_score:\n",
    "            max_score = score\n",
    "            best_seed = seed\n",
    "            best_spline = spline\n",
    "        \n",
    "    print(max_score, best_seed)\n",
    "    \n",
    "    return best_spline"
   ]
  },
  {
   "cell_type": "code",
   "execution_count": 147,
   "metadata": {},
   "outputs": [
    {
     "name": "stdout",
     "output_type": "stream",
     "text": [
      "0.7111962677271245 14700\n"
     ]
    }
   ],
   "source": [
    "spline = find_seed(100000, test_size=0.8)"
   ]
  },
  {
   "cell_type": "code",
   "execution_count": null,
   "metadata": {},
   "outputs": [],
   "source": []
  }
 ],
 "metadata": {
  "kernelspec": {
   "display_name": "Python 3",
   "language": "python",
   "name": "python3"
  },
  "language_info": {
   "codemirror_mode": {
    "name": "ipython",
    "version": 3
   },
   "file_extension": ".py",
   "mimetype": "text/x-python",
   "name": "python",
   "nbconvert_exporter": "python",
   "pygments_lexer": "ipython3",
   "version": "3.7.4"
  }
 },
 "nbformat": 4,
 "nbformat_minor": 4
}
