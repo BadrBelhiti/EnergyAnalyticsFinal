{
 "cells": [
  {
   "cell_type": "code",
   "execution_count": 1,
   "metadata": {},
   "outputs": [],
   "source": [
    "import numpy as np\n",
    "import pandas as pd\n",
    "import matplotlib.pyplot as plt\n",
    "import sklearn\n",
    "from sklearn.model_selection import train_test_split\n",
    "from sklearn.ensemble import BaggingRegressor\n",
    "from sklearn.ensemble import GradientBoostingRegressor\n",
    "from sklearn.linear_model import LinearRegression\n",
    "\n",
    "%matplotlib inline"
   ]
  },
  {
   "cell_type": "code",
   "execution_count": 2,
   "metadata": {},
   "outputs": [
    {
     "data": {
      "text/html": [
       "<div>\n",
       "<style scoped>\n",
       "    .dataframe tbody tr th:only-of-type {\n",
       "        vertical-align: middle;\n",
       "    }\n",
       "\n",
       "    .dataframe tbody tr th {\n",
       "        vertical-align: top;\n",
       "    }\n",
       "\n",
       "    .dataframe thead th {\n",
       "        text-align: right;\n",
       "    }\n",
       "</style>\n",
       "<table border=\"1\" class=\"dataframe\">\n",
       "  <thead>\n",
       "    <tr style=\"text-align: right;\">\n",
       "      <th></th>\n",
       "      <th>easting</th>\n",
       "      <th>northing</th>\n",
       "      <th>porosity</th>\n",
       "      <th>permeability</th>\n",
       "      <th>Poisson's ratio</th>\n",
       "      <th>Young's Modulus</th>\n",
       "      <th>water saturation</th>\n",
       "      <th>oil saturation</th>\n",
       "      <th>proppant weight (lbs)</th>\n",
       "      <th>pump rate (cubic feet/min)</th>\n",
       "      <th>name</th>\n",
       "      <th>cumulative production</th>\n",
       "    </tr>\n",
       "  </thead>\n",
       "  <tbody>\n",
       "    <tr>\n",
       "      <th>0</th>\n",
       "      <td>66100.0</td>\n",
       "      <td>22300.0</td>\n",
       "      <td>0.09</td>\n",
       "      <td>0.033</td>\n",
       "      <td>0.332</td>\n",
       "      <td>9440769.483</td>\n",
       "      <td>0.124740</td>\n",
       "      <td>0.875260</td>\n",
       "      <td>260036.414279</td>\n",
       "      <td>275.737593</td>\n",
       "      <td>Tarragon 4-119H</td>\n",
       "      <td>81324.0</td>\n",
       "    </tr>\n",
       "    <tr>\n",
       "      <th>1</th>\n",
       "      <td>66199.0</td>\n",
       "      <td>22300.0</td>\n",
       "      <td>0.12</td>\n",
       "      <td>0.057</td>\n",
       "      <td>0.332</td>\n",
       "      <td>9429043.880</td>\n",
       "      <td>0.124979</td>\n",
       "      <td>0.875021</td>\n",
       "      <td>763209.659862</td>\n",
       "      <td>301.003964</td>\n",
       "      <td>Tarragon 4-119H</td>\n",
       "      <td>81324.0</td>\n",
       "    </tr>\n",
       "    <tr>\n",
       "      <th>2</th>\n",
       "      <td>66297.0</td>\n",
       "      <td>22300.0</td>\n",
       "      <td>0.11</td>\n",
       "      <td>0.050</td>\n",
       "      <td>0.332</td>\n",
       "      <td>9417413.010</td>\n",
       "      <td>0.125221</td>\n",
       "      <td>0.874779</td>\n",
       "      <td>429740.754787</td>\n",
       "      <td>324.145032</td>\n",
       "      <td>Tarragon 4-119H</td>\n",
       "      <td>81324.0</td>\n",
       "    </tr>\n",
       "    <tr>\n",
       "      <th>3</th>\n",
       "      <td>66396.0</td>\n",
       "      <td>22300.0</td>\n",
       "      <td>0.08</td>\n",
       "      <td>0.024</td>\n",
       "      <td>0.332</td>\n",
       "      <td>9405879.454</td>\n",
       "      <td>0.125469</td>\n",
       "      <td>0.874531</td>\n",
       "      <td>763209.659862</td>\n",
       "      <td>301.003964</td>\n",
       "      <td>Tarragon 4-119H</td>\n",
       "      <td>81324.0</td>\n",
       "    </tr>\n",
       "    <tr>\n",
       "      <th>4</th>\n",
       "      <td>66495.0</td>\n",
       "      <td>22300.0</td>\n",
       "      <td>0.08</td>\n",
       "      <td>0.031</td>\n",
       "      <td>0.332</td>\n",
       "      <td>9394445.773</td>\n",
       "      <td>0.125720</td>\n",
       "      <td>0.874280</td>\n",
       "      <td>485657.822229</td>\n",
       "      <td>320.868488</td>\n",
       "      <td>Tarragon 4-119H</td>\n",
       "      <td>81324.0</td>\n",
       "    </tr>\n",
       "  </tbody>\n",
       "</table>\n",
       "</div>"
      ],
      "text/plain": [
       "   easting  northing  porosity  permeability  Poisson's ratio  \\\n",
       "0  66100.0   22300.0      0.09         0.033            0.332   \n",
       "1  66199.0   22300.0      0.12         0.057            0.332   \n",
       "2  66297.0   22300.0      0.11         0.050            0.332   \n",
       "3  66396.0   22300.0      0.08         0.024            0.332   \n",
       "4  66495.0   22300.0      0.08         0.031            0.332   \n",
       "\n",
       "   Young's Modulus  water saturation  oil saturation  proppant weight (lbs)  \\\n",
       "0      9440769.483          0.124740        0.875260          260036.414279   \n",
       "1      9429043.880          0.124979        0.875021          763209.659862   \n",
       "2      9417413.010          0.125221        0.874779          429740.754787   \n",
       "3      9405879.454          0.125469        0.874531          763209.659862   \n",
       "4      9394445.773          0.125720        0.874280          485657.822229   \n",
       "\n",
       "   pump rate (cubic feet/min)             name  cumulative production  \n",
       "0                  275.737593  Tarragon 4-119H                81324.0  \n",
       "1                  301.003964  Tarragon 4-119H                81324.0  \n",
       "2                  324.145032  Tarragon 4-119H                81324.0  \n",
       "3                  301.003964  Tarragon 4-119H                81324.0  \n",
       "4                  320.868488  Tarragon 4-119H                81324.0  "
      ]
     },
     "execution_count": 2,
     "metadata": {},
     "output_type": "execute_result"
    }
   ],
   "source": [
    "data = pd.read_csv(r'../data/all_wells.csv')\n",
    "data.fillna(data.mean(), inplace=True)\n",
    "data.head()"
   ]
  },
  {
   "cell_type": "code",
   "execution_count": 3,
   "metadata": {},
   "outputs": [],
   "source": [
    "predictors = data[['easting', 'northing']]"
   ]
  },
  {
   "cell_type": "code",
   "execution_count": 4,
   "metadata": {},
   "outputs": [],
   "source": [
    "def model_porosity():\n",
    "    train_x, test_x, train_y, test_y = train_test_split(predictors, data['porosity'], test_size=0.8, random_state=0)\n",
    "    model = GradientBoostingRegressor(random_state=0)\n",
    "    model.fit(train_x, train_y)\n",
    "    \n",
    "    print('Porosity Score', model.score(test_x, test_y))\n",
    "    \n",
    "    return model"
   ]
  },
  {
   "cell_type": "code",
   "execution_count": 5,
   "metadata": {},
   "outputs": [],
   "source": [
    "def model_permeability():\n",
    "    train_x, test_x, train_y, test_y = train_test_split(predictors, data['permeability'], test_size=0.8, random_state=0)\n",
    "    model = GradientBoostingRegressor(random_state=0)\n",
    "    model.fit(train_x, train_y)\n",
    "    \n",
    "    print('Permeability Score', model.score(test_x, test_y))\n",
    "    \n",
    "    return model"
   ]
  },
  {
   "cell_type": "code",
   "execution_count": 6,
   "metadata": {},
   "outputs": [],
   "source": [
    "def model_youngs():\n",
    "    train_x, test_x, train_y, test_y = train_test_split(predictors, data['Young\\'s Modulus'], test_size=0.8, random_state=0)\n",
    "    model = GradientBoostingRegressor(random_state=0)\n",
    "    model.fit(train_x, train_y)\n",
    "    \n",
    "    print('Young\\'s Modulus Score', model.score(test_x, test_y))\n",
    "    \n",
    "    return model"
   ]
  },
  {
   "cell_type": "code",
   "execution_count": 7,
   "metadata": {},
   "outputs": [],
   "source": [
    "def model_oil():\n",
    "    train_x, test_x, train_y, test_y = train_test_split(predictors, data['oil saturation'], test_size=0.8, random_state=0)\n",
    "    model = GradientBoostingRegressor(random_state=0)\n",
    "    model.fit(train_x, train_y)\n",
    "    \n",
    "    print('Oil saturation Score', model.score(test_x, test_y))\n",
    "    \n",
    "    return model"
   ]
  },
  {
   "cell_type": "code",
   "execution_count": 8,
   "metadata": {},
   "outputs": [],
   "source": [
    "def model_poissons():\n",
    "    train_x, test_x, train_y, test_y = train_test_split(predictors, data['Poisson\\'s ratio'], test_size=0.8, random_state=0)\n",
    "    model = GradientBoostingRegressor(random_state=0)\n",
    "    model.fit(train_x, train_y)\n",
    "    \n",
    "    print('Poisson\\'s Ratio Score', model.score(test_x, test_y))\n",
    "    \n",
    "    return model"
   ]
  },
  {
   "cell_type": "code",
   "execution_count": 9,
   "metadata": {},
   "outputs": [],
   "source": [
    "def model_cumulative_production():\n",
    "    oip_features = data[['porosity', 'permeability', 'Poisson\\'s ratio', 'Young\\'s Modulus', 'oil saturation']]\n",
    "    train_x, test_x, train_y, test_y = train_test_split(oip_features, data['cumulative production'], test_size=0.8, random_state=0)\n",
    "    model = LinearRegression()\n",
    "    model.fit(train_x, train_y)\n",
    "    \n",
    "    print('Cumulative Production Score', model.score(test_x, test_y))\n",
    "    print('Coefficients', model.coef_)\n",
    "    \n",
    "    return model"
   ]
  },
  {
   "cell_type": "code",
   "execution_count": 10,
   "metadata": {},
   "outputs": [],
   "source": [
    "def predict_and_plot(model, feature, precision=500):\n",
    "    easting = predictors['easting']\n",
    "    northing = predictors['northing']\n",
    "    x = np.linspace(easting.min(), easting.max(), precision)\n",
    "    y = np.linspace(northing.min(), northing.max(), precision)\n",
    "\n",
    "    input_array = []\n",
    "\n",
    "    print(x.shape, y.shape)\n",
    "    for i in range(x.shape[0]):\n",
    "        for j in range(y.shape[0]):\n",
    "            input_array.append((x[i], y[j]))\n",
    "\n",
    "    predictions = model.predict(input_array)\n",
    "\n",
    "    plt.xlabel('easting')\n",
    "    plt.ylabel('northing')\n",
    "    plt.pcolormesh(predictions.reshape(precision, precision).T, vmin=data[feature].min(), vmax=data[feature].max())\n",
    "    plt.colorbar()"
   ]
  },
  {
   "cell_type": "code",
   "execution_count": 11,
   "metadata": {},
   "outputs": [
    {
     "name": "stdout",
     "output_type": "stream",
     "text": [
      "Porosity Score 0.7058733860655523\n",
      "Permeability Score 0.6552208536538979\n",
      "Poisson's Ratio Score 0.9517418212716473\n",
      "Young's Modulus Score 0.9571747697812902\n",
      "Oil saturation Score 0.9721258958497359\n",
      "Cumulative Production Score 0.37442351701798093\n",
      "Coefficients [ 4.25152606e+05  4.87248347e+05  1.98444091e+05 -4.74014087e-06\n",
      "  4.86905149e+04]\n"
     ]
    }
   ],
   "source": [
    "porosity_model = model_porosity()\n",
    "permeability_model = model_permeability()\n",
    "poissons_model = model_poissons()\n",
    "youngs_model = model_youngs()\n",
    "oil_model = model_oil()\n",
    "cumulative_production_model = model_cumulative_production()"
   ]
  },
  {
   "cell_type": "code",
   "execution_count": 12,
   "metadata": {},
   "outputs": [
    {
     "name": "stdout",
     "output_type": "stream",
     "text": [
      "(500,) (500,)\n"
     ]
    },
    {
     "data": {
      "image/png": "[encoded data removed]",
      "text/plain": [
       "<Figure size 432x288 with 2 Axes>"
      ]
     },
     "metadata": {
      "needs_background": "light"
     },
     "output_type": "display_data"
    }
   ],
   "source": [
    "predict_and_plot(porosity_model, 'porosity')"
   ]
  },
  {
   "cell_type": "code",
   "execution_count": null,
   "metadata": {},
   "outputs": [],
   "source": [
    "predict_and_plot(cumulative_production_model, 'cumulative production')"
   ]
  },
  {
   "cell_type": "code",
   "execution_count": null,
   "metadata": {},
   "outputs": [],
   "source": [
    "predict_and_plot(oil_model, 'oil saturation')"
   ]
  },
  {
   "cell_type": "code",
   "execution_count": null,
   "metadata": {},
   "outputs": [],
   "source": []
  }
 ],
 "metadata": {
  "kernelspec": {
   "display_name": "Python 3",
   "language": "python",
   "name": "python3"
  },
  "language_info": {
   "codemirror_mode": {
    "name": "ipython",
    "version": 3
   },
   "file_extension": ".py",
   "mimetype": "text/x-python",
   "name": "python",
   "nbconvert_exporter": "python",
   "pygments_lexer": "ipython3",
   "version": "3.7.4"
  }
 },
 "nbformat": 4,
 "nbformat_minor": 2
}
