{
 "cells": [
  {
   "cell_type": "code",
   "execution_count": 1,
   "metadata": {},
   "outputs": [
    {
     "name": "stderr",
     "output_type": "stream",
     "text": [
      "/home/badr/anaconda3/lib/python3.7/site-packages/pyparsing.py:3168: FutureWarning: Possible set intersection at position 3\n",
      "  self.re = re.compile(self.reString)\n"
     ]
    }
   ],
   "source": [
    "import numpy as np\n",
    "import pandas as pd\n",
    "import autosklearn.regression\n",
    "from sklearn.model_selection import train_test_split\n",
    "from sklearn.preprocessing import MinMaxScaler\n",
    "from sklearn.metrics import mean_squared_error as auto_mean_squared_error"
   ]
  },
  {
   "cell_type": "markdown",
   "metadata": {},
   "source": [
    "Load in entire dataset"
   ]
  },
  {
   "cell_type": "code",
   "execution_count": 2,
   "metadata": {},
   "outputs": [
    {
     "data": {
      "text/html": [
       "<div>\n",
       "<style scoped>\n",
       "    .dataframe tbody tr th:only-of-type {\n",
       "        vertical-align: middle;\n",
       "    }\n",
       "\n",
       "    .dataframe tbody tr th {\n",
       "        vertical-align: top;\n",
       "    }\n",
       "\n",
       "    .dataframe thead th {\n",
       "        text-align: right;\n",
       "    }\n",
       "</style>\n",
       "<table border=\"1\" class=\"dataframe\">\n",
       "  <thead>\n",
       "    <tr style=\"text-align: right;\">\n",
       "      <th></th>\n",
       "      <th>easting</th>\n",
       "      <th>northing</th>\n",
       "      <th>porosity</th>\n",
       "      <th>permeability</th>\n",
       "      <th>Poisson's ratio</th>\n",
       "      <th>Young's Modulus</th>\n",
       "      <th>water saturation</th>\n",
       "      <th>oil saturation</th>\n",
       "      <th>proppant weight (lbs)</th>\n",
       "      <th>pump rate (cubic feet/min)</th>\n",
       "      <th>...</th>\n",
       "      <th>water 3</th>\n",
       "      <th>water 4</th>\n",
       "      <th>water 5</th>\n",
       "      <th>water 6</th>\n",
       "      <th>water 7</th>\n",
       "      <th>water 8</th>\n",
       "      <th>water 9</th>\n",
       "      <th>water 10</th>\n",
       "      <th>water 11</th>\n",
       "      <th>water 12</th>\n",
       "    </tr>\n",
       "  </thead>\n",
       "  <tbody>\n",
       "    <tr>\n",
       "      <th>0</th>\n",
       "      <td>32600.0</td>\n",
       "      <td>52200.0</td>\n",
       "      <td>0.04</td>\n",
       "      <td>0.006</td>\n",
       "      <td>0.31</td>\n",
       "      <td>1.224949e+07</td>\n",
       "      <td>0.141918</td>\n",
       "      <td>0.858082</td>\n",
       "      <td>1.059118e+06</td>\n",
       "      <td>220.584462</td>\n",
       "      <td>...</td>\n",
       "      <td>NaN</td>\n",
       "      <td>NaN</td>\n",
       "      <td>NaN</td>\n",
       "      <td>NaN</td>\n",
       "      <td>NaN</td>\n",
       "      <td>NaN</td>\n",
       "      <td>NaN</td>\n",
       "      <td>NaN</td>\n",
       "      <td>NaN</td>\n",
       "      <td>NaN</td>\n",
       "    </tr>\n",
       "    <tr>\n",
       "      <th>1</th>\n",
       "      <td>32703.0</td>\n",
       "      <td>52200.0</td>\n",
       "      <td>0.02</td>\n",
       "      <td>0.001</td>\n",
       "      <td>0.31</td>\n",
       "      <td>1.224911e+07</td>\n",
       "      <td>0.141804</td>\n",
       "      <td>0.858196</td>\n",
       "      <td>NaN</td>\n",
       "      <td>NaN</td>\n",
       "      <td>...</td>\n",
       "      <td>NaN</td>\n",
       "      <td>NaN</td>\n",
       "      <td>NaN</td>\n",
       "      <td>NaN</td>\n",
       "      <td>NaN</td>\n",
       "      <td>NaN</td>\n",
       "      <td>NaN</td>\n",
       "      <td>NaN</td>\n",
       "      <td>NaN</td>\n",
       "      <td>NaN</td>\n",
       "    </tr>\n",
       "    <tr>\n",
       "      <th>2</th>\n",
       "      <td>32807.0</td>\n",
       "      <td>52200.0</td>\n",
       "      <td>0.03</td>\n",
       "      <td>0.002</td>\n",
       "      <td>0.31</td>\n",
       "      <td>1.224864e+07</td>\n",
       "      <td>0.141688</td>\n",
       "      <td>0.858312</td>\n",
       "      <td>NaN</td>\n",
       "      <td>NaN</td>\n",
       "      <td>...</td>\n",
       "      <td>NaN</td>\n",
       "      <td>NaN</td>\n",
       "      <td>NaN</td>\n",
       "      <td>NaN</td>\n",
       "      <td>NaN</td>\n",
       "      <td>NaN</td>\n",
       "      <td>NaN</td>\n",
       "      <td>NaN</td>\n",
       "      <td>NaN</td>\n",
       "      <td>NaN</td>\n",
       "    </tr>\n",
       "    <tr>\n",
       "      <th>3</th>\n",
       "      <td>32910.0</td>\n",
       "      <td>52200.0</td>\n",
       "      <td>0.04</td>\n",
       "      <td>0.008</td>\n",
       "      <td>0.31</td>\n",
       "      <td>1.224807e+07</td>\n",
       "      <td>0.141571</td>\n",
       "      <td>0.858429</td>\n",
       "      <td>5.634563e+05</td>\n",
       "      <td>286.379301</td>\n",
       "      <td>...</td>\n",
       "      <td>NaN</td>\n",
       "      <td>NaN</td>\n",
       "      <td>NaN</td>\n",
       "      <td>NaN</td>\n",
       "      <td>NaN</td>\n",
       "      <td>NaN</td>\n",
       "      <td>NaN</td>\n",
       "      <td>NaN</td>\n",
       "      <td>NaN</td>\n",
       "      <td>NaN</td>\n",
       "    </tr>\n",
       "    <tr>\n",
       "      <th>4</th>\n",
       "      <td>33014.0</td>\n",
       "      <td>52200.0</td>\n",
       "      <td>0.03</td>\n",
       "      <td>0.004</td>\n",
       "      <td>0.31</td>\n",
       "      <td>1.224740e+07</td>\n",
       "      <td>0.141452</td>\n",
       "      <td>0.858548</td>\n",
       "      <td>NaN</td>\n",
       "      <td>NaN</td>\n",
       "      <td>...</td>\n",
       "      <td>NaN</td>\n",
       "      <td>NaN</td>\n",
       "      <td>NaN</td>\n",
       "      <td>NaN</td>\n",
       "      <td>NaN</td>\n",
       "      <td>NaN</td>\n",
       "      <td>NaN</td>\n",
       "      <td>NaN</td>\n",
       "      <td>NaN</td>\n",
       "      <td>NaN</td>\n",
       "    </tr>\n",
       "  </tbody>\n",
       "</table>\n",
       "<p>5 rows × 37 columns</p>\n",
       "</div>"
      ],
      "text/plain": [
       "   easting  northing  porosity  permeability  Poisson's ratio  \\\n",
       "0  32600.0   52200.0      0.04         0.006             0.31   \n",
       "1  32703.0   52200.0      0.02         0.001             0.31   \n",
       "2  32807.0   52200.0      0.03         0.002             0.31   \n",
       "3  32910.0   52200.0      0.04         0.008             0.31   \n",
       "4  33014.0   52200.0      0.03         0.004             0.31   \n",
       "\n",
       "   Young's Modulus  water saturation  oil saturation  proppant weight (lbs)  \\\n",
       "0     1.224949e+07          0.141918        0.858082           1.059118e+06   \n",
       "1     1.224911e+07          0.141804        0.858196                    NaN   \n",
       "2     1.224864e+07          0.141688        0.858312                    NaN   \n",
       "3     1.224807e+07          0.141571        0.858429           5.634563e+05   \n",
       "4     1.224740e+07          0.141452        0.858548                    NaN   \n",
       "\n",
       "   pump rate (cubic feet/min)  ...  water 3 water 4  water 5  water 6  \\\n",
       "0                  220.584462  ...      NaN     NaN      NaN      NaN   \n",
       "1                         NaN  ...      NaN     NaN      NaN      NaN   \n",
       "2                         NaN  ...      NaN     NaN      NaN      NaN   \n",
       "3                  286.379301  ...      NaN     NaN      NaN      NaN   \n",
       "4                         NaN  ...      NaN     NaN      NaN      NaN   \n",
       "\n",
       "   water 7  water 8  water 9  water 10  water 11  water 12  \n",
       "0      NaN      NaN      NaN       NaN       NaN       NaN  \n",
       "1      NaN      NaN      NaN       NaN       NaN       NaN  \n",
       "2      NaN      NaN      NaN       NaN       NaN       NaN  \n",
       "3      NaN      NaN      NaN       NaN       NaN       NaN  \n",
       "4      NaN      NaN      NaN       NaN       NaN       NaN  \n",
       "\n",
       "[5 rows x 37 columns]"
      ]
     },
     "execution_count": 2,
     "metadata": {},
     "output_type": "execute_result"
    }
   ],
   "source": [
    "data = pd.read_csv(r'../data/all_wells.csv')\n",
    "data.head()"
   ]
  },
  {
   "cell_type": "markdown",
   "metadata": {},
   "source": [
    "Only use 'easting' and 'northing' as predictor features. Remove NaN values and scale data from on [0, 1]"
   ]
  },
  {
   "cell_type": "code",
   "execution_count": 3,
   "metadata": {
    "scrolled": true
   },
   "outputs": [
    {
     "name": "stderr",
     "output_type": "stream",
     "text": [
      "INFO:numexpr.utils:NumExpr defaulting to 6 threads.\n"
     ]
    },
    {
     "data": {
      "text/html": [
       "<div>\n",
       "<style scoped>\n",
       "    .dataframe tbody tr th:only-of-type {\n",
       "        vertical-align: middle;\n",
       "    }\n",
       "\n",
       "    .dataframe tbody tr th {\n",
       "        vertical-align: top;\n",
       "    }\n",
       "\n",
       "    .dataframe thead th {\n",
       "        text-align: right;\n",
       "    }\n",
       "</style>\n",
       "<table border=\"1\" class=\"dataframe\">\n",
       "  <thead>\n",
       "    <tr style=\"text-align: right;\">\n",
       "      <th></th>\n",
       "      <th>0</th>\n",
       "      <th>1</th>\n",
       "    </tr>\n",
       "  </thead>\n",
       "  <tbody>\n",
       "    <tr>\n",
       "      <th>0</th>\n",
       "      <td>0.334079</td>\n",
       "      <td>0.524823</td>\n",
       "    </tr>\n",
       "    <tr>\n",
       "      <th>1</th>\n",
       "      <td>0.335172</td>\n",
       "      <td>0.524823</td>\n",
       "    </tr>\n",
       "    <tr>\n",
       "      <th>2</th>\n",
       "      <td>0.336275</td>\n",
       "      <td>0.524823</td>\n",
       "    </tr>\n",
       "    <tr>\n",
       "      <th>3</th>\n",
       "      <td>0.337367</td>\n",
       "      <td>0.524823</td>\n",
       "    </tr>\n",
       "    <tr>\n",
       "      <th>4</th>\n",
       "      <td>0.338470</td>\n",
       "      <td>0.524823</td>\n",
       "    </tr>\n",
       "  </tbody>\n",
       "</table>\n",
       "</div>"
      ],
      "text/plain": [
       "          0         1\n",
       "0  0.334079  0.524823\n",
       "1  0.335172  0.524823\n",
       "2  0.336275  0.524823\n",
       "3  0.337367  0.524823\n",
       "4  0.338470  0.524823"
      ]
     },
     "execution_count": 3,
     "metadata": {},
     "output_type": "execute_result"
    }
   ],
   "source": [
    "x = data[['easting', 'northing']].dropna()\n",
    "\n",
    "scaler = MinMaxScaler()\n",
    "scaler.fit(x)\n",
    "scaled_x = pd.DataFrame(scaler.transform(x))\n",
    "scaled_x.head()"
   ]
  },
  {
   "cell_type": "markdown",
   "metadata": {},
   "source": [
    "Load testing and training datasets"
   ]
  },
  {
   "cell_type": "code",
   "execution_count": 4,
   "metadata": {},
   "outputs": [],
   "source": [
    "y = data['porosity'].dropna().values.reshape(-1, 1)\n",
    "scaler.fit(y)\n",
    "y = pd.DataFrame(scaler.transform(y))\n",
    "train_x, test_x, train_y, test_y = train_test_split(x, y, test_size=0.8, random_state=0)"
   ]
  },
  {
   "cell_type": "code",
   "execution_count": 5,
   "metadata": {},
   "outputs": [
    {
     "name": "stdout",
     "output_type": "stream",
     "text": [
      "[ERROR] [2020-11-25 18:33:43,474:AutoML(1):b2d50c147a9ccaeae30699df5b5a929d] Dummy prediction failed with run state StatusType.CRASHED and additional output: {'traceback': 'Traceback (most recent call last):\\n  File \"/home/badr/.local/lib/python3.7/site-packages/autosklearn/evaluation/__init__.py\", line 31, in fit_predict_try_except_decorator\\n    return ta(queue=queue, **kwargs)\\n  File \"/home/badr/.local/lib/python3.7/site-packages/autosklearn/evaluation/train_evaluator.py\", line 1075, in eval_holdout\\n    evaluator.fit_predict_and_loss(iterative=iterative)\\n  File \"/home/badr/.local/lib/python3.7/site-packages/autosklearn/evaluation/train_evaluator.py\", line 448, in fit_predict_and_loss\\n    groups=self.resampling_strategy_args.get(\\'groups\\')\\n  File \"/home/badr/.local/lib/python3.7/site-packages/sklearn/model_selection/_split.py\", line 1329, in split\\n    for train, test in self._iter_indices(X, y, groups):\\n  File \"/home/badr/.local/lib/python3.7/site-packages/sklearn/model_selection/_split.py\", line 1437, in _iter_indices\\n    default_test_size=self._default_test_size)\\n  File \"/home/badr/.local/lib/python3.7/site-packages/sklearn/model_selection/_split.py\", line 1805, in _validate_shuffle_split\\n    train_size)\\nValueError: With n_samples=1, test_size=0.33 and train_size=None, the resulting train set will be empty. Adjust any of the aforementioned parameters.\\n', 'error': \"ValueError('With n_samples=1, test_size=0.33 and train_size=None, the resulting train set will be empty. Adjust any of the aforementioned parameters.')\", 'configuration_origin': 'DUMMY'}.\n"
     ]
    },
    {
     "ename": "ValueError",
     "evalue": "Dummy prediction failed with run state StatusType.CRASHED and additional output: {'traceback': 'Traceback (most recent call last):\\n  File \"/home/badr/.local/lib/python3.7/site-packages/autosklearn/evaluation/__init__.py\", line 31, in fit_predict_try_except_decorator\\n    return ta(queue=queue, **kwargs)\\n  File \"/home/badr/.local/lib/python3.7/site-packages/autosklearn/evaluation/train_evaluator.py\", line 1075, in eval_holdout\\n    evaluator.fit_predict_and_loss(iterative=iterative)\\n  File \"/home/badr/.local/lib/python3.7/site-packages/autosklearn/evaluation/train_evaluator.py\", line 448, in fit_predict_and_loss\\n    groups=self.resampling_strategy_args.get(\\'groups\\')\\n  File \"/home/badr/.local/lib/python3.7/site-packages/sklearn/model_selection/_split.py\", line 1329, in split\\n    for train, test in self._iter_indices(X, y, groups):\\n  File \"/home/badr/.local/lib/python3.7/site-packages/sklearn/model_selection/_split.py\", line 1437, in _iter_indices\\n    default_test_size=self._default_test_size)\\n  File \"/home/badr/.local/lib/python3.7/site-packages/sklearn/model_selection/_split.py\", line 1805, in _validate_shuffle_split\\n    train_size)\\nValueError: With n_samples=1, test_size=0.33 and train_size=None, the resulting train set will be empty. Adjust any of the aforementioned parameters.\\n', 'error': \"ValueError('With n_samples=1, test_size=0.33 and train_size=None, the resulting train set will be empty. Adjust any of the aforementioned parameters.')\", 'configuration_origin': 'DUMMY'}.",
     "output_type": "error",
     "traceback": [
      "\u001b[0;31m---------------------------------------------------------------------------\u001b[0m",
      "\u001b[0;31mValueError\u001b[0m                                Traceback (most recent call last)",
      "\u001b[0;32m<ipython-input-5-cec2f2661227>\u001b[0m in \u001b[0;36m<module>\u001b[0;34m\u001b[0m\n\u001b[1;32m      1\u001b[0m \u001b[0mautoml\u001b[0m \u001b[0;34m=\u001b[0m \u001b[0mautosklearn\u001b[0m\u001b[0;34m.\u001b[0m\u001b[0mregression\u001b[0m\u001b[0;34m.\u001b[0m\u001b[0mAutoSklearnRegressor\u001b[0m\u001b[0;34m(\u001b[0m\u001b[0mtime_left_for_this_task\u001b[0m\u001b[0;34m=\u001b[0m\u001b[0;36m120\u001b[0m\u001b[0;34m,\u001b[0m \u001b[0mper_run_time_limit\u001b[0m\u001b[0;34m=\u001b[0m\u001b[0;36m30\u001b[0m\u001b[0;34m,\u001b[0m \u001b[0mn_jobs\u001b[0m\u001b[0;34m=\u001b[0m\u001b[0;36m8\u001b[0m\u001b[0;34m)\u001b[0m\u001b[0;34m\u001b[0m\u001b[0;34m\u001b[0m\u001b[0m\n\u001b[0;32m----> 2\u001b[0;31m \u001b[0mautoml\u001b[0m\u001b[0;34m.\u001b[0m\u001b[0mfit\u001b[0m\u001b[0;34m(\u001b[0m\u001b[0mtrain_x\u001b[0m\u001b[0;34m.\u001b[0m\u001b[0mvalues\u001b[0m\u001b[0;34m.\u001b[0m\u001b[0mreshape\u001b[0m\u001b[0;34m(\u001b[0m\u001b[0;36m1\u001b[0m\u001b[0;34m,\u001b[0m \u001b[0;34m-\u001b[0m\u001b[0;36m1\u001b[0m\u001b[0;34m)\u001b[0m\u001b[0;34m,\u001b[0m \u001b[0mtrain_y\u001b[0m\u001b[0;34m.\u001b[0m\u001b[0mvalues\u001b[0m\u001b[0;34m.\u001b[0m\u001b[0mreshape\u001b[0m\u001b[0;34m(\u001b[0m\u001b[0;36m1\u001b[0m\u001b[0;34m,\u001b[0m \u001b[0;34m-\u001b[0m\u001b[0;36m1\u001b[0m\u001b[0;34m)\u001b[0m\u001b[0;34m)\u001b[0m\u001b[0;34m\u001b[0m\u001b[0;34m\u001b[0m\u001b[0m\n\u001b[0m\u001b[1;32m      3\u001b[0m \u001b[0mprint\u001b[0m\u001b[0;34m(\u001b[0m\u001b[0mautoml\u001b[0m\u001b[0;34m.\u001b[0m\u001b[0msprint_statistics\u001b[0m\u001b[0;34m(\u001b[0m\u001b[0;34m)\u001b[0m\u001b[0;34m)\u001b[0m\u001b[0;34m\u001b[0m\u001b[0;34m\u001b[0m\u001b[0m\n",
      "\u001b[0;32m~/.local/lib/python3.7/site-packages/autosklearn/estimators.py\u001b[0m in \u001b[0;36mfit\u001b[0;34m(self, X, y, X_test, y_test, feat_type, dataset_name)\u001b[0m\n\u001b[1;32m    725\u001b[0m             \u001b[0my_test\u001b[0m\u001b[0;34m=\u001b[0m\u001b[0my_test\u001b[0m\u001b[0;34m,\u001b[0m\u001b[0;34m\u001b[0m\u001b[0;34m\u001b[0m\u001b[0m\n\u001b[1;32m    726\u001b[0m             \u001b[0mfeat_type\u001b[0m\u001b[0;34m=\u001b[0m\u001b[0mfeat_type\u001b[0m\u001b[0;34m,\u001b[0m\u001b[0;34m\u001b[0m\u001b[0;34m\u001b[0m\u001b[0m\n\u001b[0;32m--> 727\u001b[0;31m             \u001b[0mdataset_name\u001b[0m\u001b[0;34m=\u001b[0m\u001b[0mdataset_name\u001b[0m\u001b[0;34m,\u001b[0m\u001b[0;34m\u001b[0m\u001b[0;34m\u001b[0m\u001b[0m\n\u001b[0m\u001b[1;32m    728\u001b[0m         )\n\u001b[1;32m    729\u001b[0m \u001b[0;34m\u001b[0m\u001b[0m\n",
      "\u001b[0;32m~/.local/lib/python3.7/site-packages/autosklearn/estimators.py\u001b[0m in \u001b[0;36mfit\u001b[0;34m(self, **kwargs)\u001b[0m\n\u001b[1;32m    346\u001b[0m             \u001b[0moutput_folder\u001b[0m\u001b[0;34m=\u001b[0m\u001b[0mself\u001b[0m\u001b[0;34m.\u001b[0m\u001b[0moutput_folder\u001b[0m\u001b[0;34m,\u001b[0m\u001b[0;34m\u001b[0m\u001b[0;34m\u001b[0m\u001b[0m\n\u001b[1;32m    347\u001b[0m         )\n\u001b[0;32m--> 348\u001b[0;31m         \u001b[0mself\u001b[0m\u001b[0;34m.\u001b[0m\u001b[0mautoml_\u001b[0m\u001b[0;34m.\u001b[0m\u001b[0mfit\u001b[0m\u001b[0;34m(\u001b[0m\u001b[0mload_models\u001b[0m\u001b[0;34m=\u001b[0m\u001b[0mself\u001b[0m\u001b[0;34m.\u001b[0m\u001b[0m_load_models\u001b[0m\u001b[0;34m,\u001b[0m \u001b[0;34m**\u001b[0m\u001b[0mkwargs\u001b[0m\u001b[0;34m)\u001b[0m\u001b[0;34m\u001b[0m\u001b[0;34m\u001b[0m\u001b[0m\n\u001b[0m\u001b[1;32m    349\u001b[0m \u001b[0;34m\u001b[0m\u001b[0m\n\u001b[1;32m    350\u001b[0m         \u001b[0;32mreturn\u001b[0m \u001b[0mself\u001b[0m\u001b[0;34m\u001b[0m\u001b[0;34m\u001b[0m\u001b[0m\n",
      "\u001b[0;32m~/.local/lib/python3.7/site-packages/autosklearn/automl.py\u001b[0m in \u001b[0;36mfit\u001b[0;34m(self, X, y, X_test, y_test, feat_type, dataset_name, only_return_configuration_space, load_models)\u001b[0m\n\u001b[1;32m   1272\u001b[0m             \u001b[0mdataset_name\u001b[0m\u001b[0;34m=\u001b[0m\u001b[0mdataset_name\u001b[0m\u001b[0;34m,\u001b[0m\u001b[0;34m\u001b[0m\u001b[0;34m\u001b[0m\u001b[0m\n\u001b[1;32m   1273\u001b[0m             \u001b[0monly_return_configuration_space\u001b[0m\u001b[0;34m=\u001b[0m\u001b[0monly_return_configuration_space\u001b[0m\u001b[0;34m,\u001b[0m\u001b[0;34m\u001b[0m\u001b[0;34m\u001b[0m\u001b[0m\n\u001b[0;32m-> 1274\u001b[0;31m             \u001b[0mload_models\u001b[0m\u001b[0;34m=\u001b[0m\u001b[0mload_models\u001b[0m\u001b[0;34m,\u001b[0m\u001b[0;34m\u001b[0m\u001b[0;34m\u001b[0m\u001b[0m\n\u001b[0m\u001b[1;32m   1275\u001b[0m         )\n",
      "\u001b[0;32m~/.local/lib/python3.7/site-packages/autosklearn/automl.py\u001b[0m in \u001b[0;36mfit\u001b[0;34m(self, X, y, task, X_test, y_test, feat_type, dataset_name, only_return_configuration_space, load_models)\u001b[0m\n\u001b[1;32m    531\u001b[0m         \u001b[0;31m# == Perform dummy predictions\u001b[0m\u001b[0;34m\u001b[0m\u001b[0;34m\u001b[0m\u001b[0;34m\u001b[0m\u001b[0m\n\u001b[1;32m    532\u001b[0m         \u001b[0mnum_run\u001b[0m \u001b[0;34m=\u001b[0m \u001b[0;36m1\u001b[0m\u001b[0;34m\u001b[0m\u001b[0;34m\u001b[0m\u001b[0m\n\u001b[0;32m--> 533\u001b[0;31m         \u001b[0mself\u001b[0m\u001b[0;34m.\u001b[0m\u001b[0m_do_dummy_prediction\u001b[0m\u001b[0;34m(\u001b[0m\u001b[0mdatamanager\u001b[0m\u001b[0;34m,\u001b[0m \u001b[0mnum_run\u001b[0m\u001b[0;34m)\u001b[0m\u001b[0;34m\u001b[0m\u001b[0;34m\u001b[0m\u001b[0m\n\u001b[0m\u001b[1;32m    534\u001b[0m \u001b[0;34m\u001b[0m\u001b[0m\n\u001b[1;32m    535\u001b[0m         \u001b[0;31m# = Create a searchspace\u001b[0m\u001b[0;34m\u001b[0m\u001b[0;34m\u001b[0m\u001b[0;34m\u001b[0m\u001b[0m\n",
      "\u001b[0;32m~/.local/lib/python3.7/site-packages/autosklearn/automl.py\u001b[0m in \u001b[0;36m_do_dummy_prediction\u001b[0;34m(self, datamanager, num_run)\u001b[0m\n\u001b[1;32m    346\u001b[0m                 raise ValueError(\n\u001b[1;32m    347\u001b[0m                     \u001b[0;34m\"Dummy prediction failed with run state %s and additional output: %s.\"\u001b[0m\u001b[0;34m\u001b[0m\u001b[0;34m\u001b[0m\u001b[0m\n\u001b[0;32m--> 348\u001b[0;31m                     \u001b[0;34m%\u001b[0m \u001b[0;34m(\u001b[0m\u001b[0mstr\u001b[0m\u001b[0;34m(\u001b[0m\u001b[0mstatus\u001b[0m\u001b[0;34m)\u001b[0m\u001b[0;34m,\u001b[0m \u001b[0mstr\u001b[0m\u001b[0;34m(\u001b[0m\u001b[0madditional_info\u001b[0m\u001b[0;34m)\u001b[0m\u001b[0;34m)\u001b[0m\u001b[0;34m\u001b[0m\u001b[0;34m\u001b[0m\u001b[0m\n\u001b[0m\u001b[1;32m    349\u001b[0m                 )\n\u001b[1;32m    350\u001b[0m \u001b[0;34m\u001b[0m\u001b[0m\n",
      "\u001b[0;31mValueError\u001b[0m: Dummy prediction failed with run state StatusType.CRASHED and additional output: {'traceback': 'Traceback (most recent call last):\\n  File \"/home/badr/.local/lib/python3.7/site-packages/autosklearn/evaluation/__init__.py\", line 31, in fit_predict_try_except_decorator\\n    return ta(queue=queue, **kwargs)\\n  File \"/home/badr/.local/lib/python3.7/site-packages/autosklearn/evaluation/train_evaluator.py\", line 1075, in eval_holdout\\n    evaluator.fit_predict_and_loss(iterative=iterative)\\n  File \"/home/badr/.local/lib/python3.7/site-packages/autosklearn/evaluation/train_evaluator.py\", line 448, in fit_predict_and_loss\\n    groups=self.resampling_strategy_args.get(\\'groups\\')\\n  File \"/home/badr/.local/lib/python3.7/site-packages/sklearn/model_selection/_split.py\", line 1329, in split\\n    for train, test in self._iter_indices(X, y, groups):\\n  File \"/home/badr/.local/lib/python3.7/site-packages/sklearn/model_selection/_split.py\", line 1437, in _iter_indices\\n    default_test_size=self._default_test_size)\\n  File \"/home/badr/.local/lib/python3.7/site-packages/sklearn/model_selection/_split.py\", line 1805, in _validate_shuffle_split\\n    train_size)\\nValueError: With n_samples=1, test_size=0.33 and train_size=None, the resulting train set will be empty. Adjust any of the aforementioned parameters.\\n', 'error': \"ValueError('With n_samples=1, test_size=0.33 and train_size=None, the resulting train set will be empty. Adjust any of the aforementioned parameters.')\", 'configuration_origin': 'DUMMY'}."
     ]
    }
   ],
   "source": [
    "automl = autosklearn.regression.AutoSklearnRegressor(time_left_for_this_task=120, per_run_time_limit=30, n_jobs=8)\n",
    "automl.fit(train_x.values.reshape(1, -1), train_y.values.reshape(1, -1))\n",
    "print(automl.sprint_statistics())"
   ]
  },
  {
   "cell_type": "code",
   "execution_count": null,
   "metadata": {},
   "outputs": [],
   "source": []
  }
 ],
 "metadata": {
  "kernelspec": {
   "display_name": "Python 3",
   "language": "python",
   "name": "python3"
  },
  "language_info": {
   "codemirror_mode": {
    "name": "ipython",
    "version": 3
   },
   "file_extension": ".py",
   "mimetype": "text/x-python",
   "name": "python",
   "nbconvert_exporter": "python",
   "pygments_lexer": "ipython3",
   "version": "3.7.4"
  }
 },
 "nbformat": 4,
 "nbformat_minor": 2
}
