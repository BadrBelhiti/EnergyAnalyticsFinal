{
 "cells": [
  {
   "cell_type": "code",
   "execution_count": 1,
   "metadata": {},
   "outputs": [],
   "source": [
    "import pandas as pd\n",
    "import numpy as np\n",
    "import matplotlib.pyplot as plt\n",
    "import torch\n",
    "from torch import nn\n",
    "from torch import optim\n",
    "from sklearn import preprocessing\n",
    "from sklearn.model_selection import train_test_split\n",
    "from sklearn.preprocessing import MinMaxScaler\n",
    "from sklearn.metrics import r2_score\n",
    "%matplotlib inline"
   ]
  },
  {
   "cell_type": "code",
   "execution_count": 2,
   "metadata": {
    "scrolled": true
   },
   "outputs": [
    {
     "data": {
      "text/html": [
       "<div>\n",
       "<style scoped>\n",
       "    .dataframe tbody tr th:only-of-type {\n",
       "        vertical-align: middle;\n",
       "    }\n",
       "\n",
       "    .dataframe tbody tr th {\n",
       "        vertical-align: top;\n",
       "    }\n",
       "\n",
       "    .dataframe thead th {\n",
       "        text-align: right;\n",
       "    }\n",
       "</style>\n",
       "<table border=\"1\" class=\"dataframe\">\n",
       "  <thead>\n",
       "    <tr style=\"text-align: right;\">\n",
       "      <th></th>\n",
       "      <th>easting</th>\n",
       "      <th>northing</th>\n",
       "      <th>porosity</th>\n",
       "      <th>permeability</th>\n",
       "      <th>Poisson's ratio</th>\n",
       "      <th>Young's Modulus</th>\n",
       "      <th>water saturation</th>\n",
       "      <th>oil saturation</th>\n",
       "      <th>proppant weight (lbs)</th>\n",
       "      <th>pump rate (cubic feet/min)</th>\n",
       "      <th>...</th>\n",
       "      <th>water 3</th>\n",
       "      <th>water 4</th>\n",
       "      <th>water 5</th>\n",
       "      <th>water 6</th>\n",
       "      <th>water 7</th>\n",
       "      <th>water 8</th>\n",
       "      <th>water 9</th>\n",
       "      <th>water 10</th>\n",
       "      <th>water 11</th>\n",
       "      <th>water 12</th>\n",
       "    </tr>\n",
       "  </thead>\n",
       "  <tbody>\n",
       "    <tr>\n",
       "      <th>0</th>\n",
       "      <td>32600.0</td>\n",
       "      <td>52200.0</td>\n",
       "      <td>0.04</td>\n",
       "      <td>0.006</td>\n",
       "      <td>0.31</td>\n",
       "      <td>1.224949e+07</td>\n",
       "      <td>0.141918</td>\n",
       "      <td>0.858082</td>\n",
       "      <td>1.059118e+06</td>\n",
       "      <td>220.584462</td>\n",
       "      <td>...</td>\n",
       "      <td>NaN</td>\n",
       "      <td>NaN</td>\n",
       "      <td>NaN</td>\n",
       "      <td>NaN</td>\n",
       "      <td>NaN</td>\n",
       "      <td>NaN</td>\n",
       "      <td>NaN</td>\n",
       "      <td>NaN</td>\n",
       "      <td>NaN</td>\n",
       "      <td>NaN</td>\n",
       "    </tr>\n",
       "    <tr>\n",
       "      <th>1</th>\n",
       "      <td>32703.0</td>\n",
       "      <td>52200.0</td>\n",
       "      <td>0.02</td>\n",
       "      <td>0.001</td>\n",
       "      <td>0.31</td>\n",
       "      <td>1.224911e+07</td>\n",
       "      <td>0.141804</td>\n",
       "      <td>0.858196</td>\n",
       "      <td>NaN</td>\n",
       "      <td>NaN</td>\n",
       "      <td>...</td>\n",
       "      <td>NaN</td>\n",
       "      <td>NaN</td>\n",
       "      <td>NaN</td>\n",
       "      <td>NaN</td>\n",
       "      <td>NaN</td>\n",
       "      <td>NaN</td>\n",
       "      <td>NaN</td>\n",
       "      <td>NaN</td>\n",
       "      <td>NaN</td>\n",
       "      <td>NaN</td>\n",
       "    </tr>\n",
       "    <tr>\n",
       "      <th>2</th>\n",
       "      <td>32807.0</td>\n",
       "      <td>52200.0</td>\n",
       "      <td>0.03</td>\n",
       "      <td>0.002</td>\n",
       "      <td>0.31</td>\n",
       "      <td>1.224864e+07</td>\n",
       "      <td>0.141688</td>\n",
       "      <td>0.858312</td>\n",
       "      <td>NaN</td>\n",
       "      <td>NaN</td>\n",
       "      <td>...</td>\n",
       "      <td>NaN</td>\n",
       "      <td>NaN</td>\n",
       "      <td>NaN</td>\n",
       "      <td>NaN</td>\n",
       "      <td>NaN</td>\n",
       "      <td>NaN</td>\n",
       "      <td>NaN</td>\n",
       "      <td>NaN</td>\n",
       "      <td>NaN</td>\n",
       "      <td>NaN</td>\n",
       "    </tr>\n",
       "    <tr>\n",
       "      <th>3</th>\n",
       "      <td>32910.0</td>\n",
       "      <td>52200.0</td>\n",
       "      <td>0.04</td>\n",
       "      <td>0.008</td>\n",
       "      <td>0.31</td>\n",
       "      <td>1.224807e+07</td>\n",
       "      <td>0.141571</td>\n",
       "      <td>0.858429</td>\n",
       "      <td>5.634563e+05</td>\n",
       "      <td>286.379301</td>\n",
       "      <td>...</td>\n",
       "      <td>NaN</td>\n",
       "      <td>NaN</td>\n",
       "      <td>NaN</td>\n",
       "      <td>NaN</td>\n",
       "      <td>NaN</td>\n",
       "      <td>NaN</td>\n",
       "      <td>NaN</td>\n",
       "      <td>NaN</td>\n",
       "      <td>NaN</td>\n",
       "      <td>NaN</td>\n",
       "    </tr>\n",
       "    <tr>\n",
       "      <th>4</th>\n",
       "      <td>33014.0</td>\n",
       "      <td>52200.0</td>\n",
       "      <td>0.03</td>\n",
       "      <td>0.004</td>\n",
       "      <td>0.31</td>\n",
       "      <td>1.224740e+07</td>\n",
       "      <td>0.141452</td>\n",
       "      <td>0.858548</td>\n",
       "      <td>NaN</td>\n",
       "      <td>NaN</td>\n",
       "      <td>...</td>\n",
       "      <td>NaN</td>\n",
       "      <td>NaN</td>\n",
       "      <td>NaN</td>\n",
       "      <td>NaN</td>\n",
       "      <td>NaN</td>\n",
       "      <td>NaN</td>\n",
       "      <td>NaN</td>\n",
       "      <td>NaN</td>\n",
       "      <td>NaN</td>\n",
       "      <td>NaN</td>\n",
       "    </tr>\n",
       "  </tbody>\n",
       "</table>\n",
       "<p>5 rows × 37 columns</p>\n",
       "</div>"
      ],
      "text/plain": [
       "   easting  northing  porosity  permeability  Poisson's ratio  \\\n",
       "0  32600.0   52200.0      0.04         0.006             0.31   \n",
       "1  32703.0   52200.0      0.02         0.001             0.31   \n",
       "2  32807.0   52200.0      0.03         0.002             0.31   \n",
       "3  32910.0   52200.0      0.04         0.008             0.31   \n",
       "4  33014.0   52200.0      0.03         0.004             0.31   \n",
       "\n",
       "   Young's Modulus  water saturation  oil saturation  proppant weight (lbs)  \\\n",
       "0     1.224949e+07          0.141918        0.858082           1.059118e+06   \n",
       "1     1.224911e+07          0.141804        0.858196                    NaN   \n",
       "2     1.224864e+07          0.141688        0.858312                    NaN   \n",
       "3     1.224807e+07          0.141571        0.858429           5.634563e+05   \n",
       "4     1.224740e+07          0.141452        0.858548                    NaN   \n",
       "\n",
       "   pump rate (cubic feet/min)  ...  water 3 water 4  water 5  water 6  \\\n",
       "0                  220.584462  ...      NaN     NaN      NaN      NaN   \n",
       "1                         NaN  ...      NaN     NaN      NaN      NaN   \n",
       "2                         NaN  ...      NaN     NaN      NaN      NaN   \n",
       "3                  286.379301  ...      NaN     NaN      NaN      NaN   \n",
       "4                         NaN  ...      NaN     NaN      NaN      NaN   \n",
       "\n",
       "   water 7  water 8  water 9  water 10  water 11  water 12  \n",
       "0      NaN      NaN      NaN       NaN       NaN       NaN  \n",
       "1      NaN      NaN      NaN       NaN       NaN       NaN  \n",
       "2      NaN      NaN      NaN       NaN       NaN       NaN  \n",
       "3      NaN      NaN      NaN       NaN       NaN       NaN  \n",
       "4      NaN      NaN      NaN       NaN       NaN       NaN  \n",
       "\n",
       "[5 rows x 37 columns]"
      ]
     },
     "execution_count": 2,
     "metadata": {},
     "output_type": "execute_result"
    }
   ],
   "source": [
    "data = pd.read_csv(r'../data/all_wells.csv')\n",
    "data.head()"
   ]
  },
  {
   "cell_type": "markdown",
   "metadata": {},
   "source": [
    "We scale the easting and northing features to fit the range (-1,1)."
   ]
  },
  {
   "cell_type": "code",
   "execution_count": 3,
   "metadata": {},
   "outputs": [],
   "source": [
    "min_max_scaler = preprocessing.MinMaxScaler()\n",
    "    \n",
    "scaled_x = pd.DataFrame(min_max_scaler.fit_transform(data[['easting', 'northing']].values)).dropna()"
   ]
  },
  {
   "cell_type": "markdown",
   "metadata": {},
   "source": [
    "The method build_datasets is created to scale the data of a feature to the range (-1,1) and then construct a train loader."
   ]
  },
  {
   "cell_type": "code",
   "execution_count": 4,
   "metadata": {},
   "outputs": [],
   "source": [
    "def build_datasets(feature, test_size=0.8, random_state=0):\n",
    "    y = pd.DataFrame(min_max_scaler.fit_transform(data[feature].values.reshape(-1, 1))).dropna()\n",
    "    train_x, test_x, train_y, test_y = train_test_split(scaled_x, y, test_size=test_size, random_state=random_state)\n",
    "    \n",
    "    train = torch.utils.data.TensorDataset(torch.Tensor(np.array(train_x)), torch.Tensor(np.array(train_y)))\n",
    "    train_loader = torch.utils.data.DataLoader(train, batch_size = 64, shuffle = True)\n",
    "    \n",
    "    return (train_loader, test_x, test_y)"
   ]
  },
  {
   "cell_type": "markdown",
   "metadata": {},
   "source": [
    "The following method takes the input of a model, optimizer, our train loader and a number of epochs and returns the corresponding training losses."
   ]
  },
  {
   "cell_type": "code",
   "execution_count": 5,
   "metadata": {},
   "outputs": [],
   "source": [
    "def train_model(model, optimizer, train_loader, criterion=nn.SmoothL1Loss(), epochs=1000):\n",
    "    for e in range(epochs):\n",
    "        running_loss = 0\n",
    "        for features, labels in train_loader:\n",
    "            optimizer.zero_grad()\n",
    "            forward_pass = model(features)\n",
    "            loss = criterion(forward_pass, labels.type(torch.FloatTensor))\n",
    "            loss.backward()\n",
    "            optimizer.step()\n",
    "\n",
    "            running_loss += loss.item()\n",
    "        if (e + 1) % (epochs // 10) == 0:\n",
    "            print(\"===================== Epoch %d =====================\" % (e + 1))\n",
    "            print(\"Training loss: %.10f\" % (running_loss / len(train_loader)))"
   ]
  },
  {
   "cell_type": "markdown",
   "metadata": {},
   "source": [
    "We create the following method to return the heat map of a feature with respect to easting and northing."
   ]
  },
  {
   "cell_type": "code",
   "execution_count": 50,
   "metadata": {},
   "outputs": [],
   "source": [
    "def plot_feature(model, feature, precision=2000):\n",
    "    easting = data['easting']\n",
    "    northing = data['northing']\n",
    "    grid = np.mgrid[easting.min():easting.max():precision, northing.min():northing.max():precision]\n",
    "    grid = grid.reshape((2, -1))\n",
    "\n",
    "    input_array = []\n",
    "\n",
    "    for i in range(len(grid[0])):\n",
    "        input_array.append((grid[0][i], grid[1][i]))\n",
    "\n",
    "    with torch.no_grad():\n",
    "        features = torch.tensor(np.array(input_array)).float();\n",
    "        predictions = min_max_scaler.fit_transform(model(features))\n",
    "\n",
    "        plt.xlabel('easting')\n",
    "        plt.ylabel('northing')\n",
    "        plt.scatter(grid[0], grid[1], c=predictions)\n",
    "        plt.colorbar()"
   ]
  },
  {
   "cell_type": "code",
   "execution_count": 7,
   "metadata": {},
   "outputs": [],
   "source": [
    "def score_model(model, test_x, test_y): #Returns score\n",
    "    with torch.no_grad():\n",
    "        predictions = model(torch.tensor(np.array(test_x)).float())\n",
    "        print(r2_score(predictions, test_y))"
   ]
  },
  {
   "cell_type": "markdown",
   "metadata": {},
   "source": [
    "We define the model with ReLU activations and build a feed-forward neural network. "
   ]
  },
  {
   "cell_type": "code",
   "execution_count": 40,
   "metadata": {},
   "outputs": [],
   "source": [
    "model = nn.Sequential(nn.Linear(2, 6),\n",
    "                      nn.ReLU(),\n",
    "                      nn.Linear(6, 6),\n",
    "                      nn.ReLU(),\n",
    "                      nn.Linear(6, 1),\n",
    "                     )\n",
    "\n",
    "train_loader, test_x, test_y = build_datasets('porosity', test_size=0.2)"
   ]
  },
  {
   "cell_type": "code",
   "execution_count": 41,
   "metadata": {},
   "outputs": [
    {
     "name": "stdout",
     "output_type": "stream",
     "text": [
      "===================== Epoch 100 =====================\n",
      "Training loss: 0.0065778655\n",
      "===================== Epoch 200 =====================\n",
      "Training loss: 0.0065610157\n",
      "===================== Epoch 300 =====================\n",
      "Training loss: 0.0065167516\n",
      "===================== Epoch 400 =====================\n",
      "Training loss: 0.0064829780\n",
      "===================== Epoch 500 =====================\n",
      "Training loss: 0.0062563833\n",
      "===================== Epoch 600 =====================\n",
      "Training loss: 0.0058469064\n",
      "===================== Epoch 700 =====================\n",
      "Training loss: 0.0057504388\n",
      "===================== Epoch 800 =====================\n",
      "Training loss: 0.0057043070\n",
      "===================== Epoch 900 =====================\n",
      "Training loss: 0.0056890123\n",
      "===================== Epoch 1000 =====================\n",
      "Training loss: 0.0056824933\n"
     ]
    }
   ],
   "source": [
    "train_model(model, optim.SGD(model.parameters(), lr=0.1), train_loader)"
   ]
  },
  {
   "cell_type": "code",
   "execution_count": 51,
   "metadata": {},
   "outputs": [
    {
     "data": {
      "image/png": "[encoded data removed]",
      "text/plain": [
       "<Figure size 432x288 with 2 Axes>"
      ]
     },
     "metadata": {
      "needs_background": "light"
     },
     "output_type": "display_data"
    }
   ],
   "source": [
    "plot_feature(model, 'porosity')"
   ]
  },
  {
   "cell_type": "code",
   "execution_count": 43,
   "metadata": {},
   "outputs": [
    {
     "name": "stdout",
     "output_type": "stream",
     "text": [
      "0.6333938417492744\n"
     ]
    }
   ],
   "source": [
    "score_model(model, test_x, test_y)"
   ]
  },
  {
   "cell_type": "code",
   "execution_count": null,
   "metadata": {},
   "outputs": [],
   "source": []
  }
 ],
 "metadata": {
  "kernelspec": {
   "display_name": "Python 3",
   "language": "python",
   "name": "python3"
  },
  "language_info": {
   "codemirror_mode": {
    "name": "ipython",
    "version": 3
   },
   "file_extension": ".py",
   "mimetype": "text/x-python",
   "name": "python",
   "nbconvert_exporter": "python",
   "pygments_lexer": "ipython3",
   "version": "3.8.3"
  }
 },
 "nbformat": 4,
 "nbformat_minor": 4
}
