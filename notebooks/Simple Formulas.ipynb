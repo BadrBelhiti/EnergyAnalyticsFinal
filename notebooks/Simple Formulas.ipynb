{
 "cells": [
  {
   "cell_type": "markdown",
   "metadata": {},
   "source": [
    "Simple functions suggested by Hingle Basin <br>\n",
    "copy/paste/modify in notebooks when needed"
   ]
  },
  {
   "cell_type": "markdown",
   "metadata": {},
   "source": [
    "### Original oil in place \n",
    "\n",
    "$OOIP(STB) = \\frac{7758AH\\phi(1-S_{w})}{FVF}$\n",
    "\n",
    "* where $A$ is the area of the reservoir (acres), $H$ is the thickness of the reservoir (feet), $\\phi$ is porosity (%), $Sw$ is water saturation (%), and $FVF$ is the formation volume factor which is a constant "
   ]
  },
  {
   "cell_type": "code",
   "execution_count": 1,
   "metadata": {},
   "outputs": [],
   "source": [
    "def ooip(area, thickness, porosity, saturation):\n",
    "    fvf = 1 # constant, any value between 1-3\n",
    "    return 7758 * area * thickness * porosity * (1-saturation) / fvf"
   ]
  },
  {
   "cell_type": "markdown",
   "metadata": {},
   "source": [
    "### Rate of initial production\n",
    "\n",
    "$q_{t} = q_{i}e^{-Dt}$\n",
    "\n",
    "* where $q_{t}$ is the production rate (BOPD) at time $t$ (years), $q_{i}$ is the initial production rate (BOPD), and $D$ is the decline rate fraction"
   ]
  },
  {
   "cell_type": "code",
   "execution_count": 2,
   "metadata": {},
   "outputs": [],
   "source": [
    "def production_rate(initial_production, time, decline_rate):\n",
    "    return initial_production * exp(-1*time*decline_rate)"
   ]
  },
  {
   "cell_type": "markdown",
   "metadata": {},
   "source": [
    "### Life of reservoir\n",
    "\n",
    "$t = (\\frac{1}{D})ln\\frac{q_{i}}{q_{ec}}$\n",
    "\n",
    "* where $t$ is time (years), $D$ is the decline rate fraction, $q_{i}$ is the initial production rate (BOPD), and $q_{ec}$ is the economic limit rate of production (BOPD)"
   ]
  },
  {
   "cell_type": "code",
   "execution_count": 3,
   "metadata": {},
   "outputs": [],
   "source": [
    "def life(initial_production, economic_production, decline_rate):\n",
    "    return (1/decline_rate) * math.log(initial_production/economic_production)"
   ]
  },
  {
   "cell_type": "markdown",
   "metadata": {},
   "source": [
    "### Cumulative production\n",
    "\n",
    "$N_{p} = (\\frac{q_{i}}{D})ln(\\frac{q_{i}}{q})$\n",
    "\n",
    "* where $N_{p}$ is the cumulative production (bbl), $q_{i}$ is the initial production rate (BOPD), $D$ is the decline rate fraction, and $q$ is the current production rate"
   ]
  },
  {
   "cell_type": "code",
   "execution_count": 4,
   "metadata": {},
   "outputs": [],
   "source": [
    "def cumulative_production(initial_production, current_production, decline_rate):\n",
    "    return (initial_production/decline_rate) * math.log(initial_production/current_production)"
   ]
  }
 ],
 "metadata": {
  "kernelspec": {
   "display_name": "Python 3",
   "language": "python",
   "name": "python3"
  },
  "language_info": {
   "codemirror_mode": {
    "name": "ipython",
    "version": 3
   },
   "file_extension": ".py",
   "mimetype": "text/x-python",
   "name": "python",
   "nbconvert_exporter": "python",
   "pygments_lexer": "ipython3",
   "version": "3.8.3"
  }
 },
 "nbformat": 4,
 "nbformat_minor": 4
}
